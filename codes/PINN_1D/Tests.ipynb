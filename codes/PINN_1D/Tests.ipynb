{
 "cells": [
  {
   "cell_type": "code",
   "execution_count": 1,
   "metadata": {},
   "outputs": [],
   "source": [
    "import jax\n",
    "import jax.numpy as jnp\n",
    "import numpy as np\n",
    "import matplotlib.pyplot as plt\n",
    "import os\n",
    "import time\n",
    "\n",
    "os.environ[\"KERAS_BACKEND\"] = \"jax\"\n",
    "\n",
    "import keras\n",
    "\n",
    "from Laplace_JAXDense import solve_and_loss, solve\n",
    "\n",
    "# Set the random seed\n",
    "np.random.seed(1234)\n",
    "keras.utils.set_random_seed(1234)\n",
    "\n",
    "dtype='float64' # double precision set to default in the SCR functions\n",
    "jax.config.update(\"jax_enable_x64\", True)\n",
    "keras.backend.set_floatx(dtype)\n",
    "\n",
    "from NN_model import make_model, make_loss_model"
   ]
  },
  {
   "cell_type": "code",
   "execution_count": 2,
   "metadata": {},
   "outputs": [
    {
     "data": {
      "text/plain": [
       "Array([-0.54860593, -0.55269547, -0.55519627, -0.55436982], dtype=float64)"
      ]
     },
     "execution_count": 2,
     "metadata": {},
     "output_type": "execute_result"
    }
   ],
   "source": [
    "model  = make_model(10, 3, 5)\n",
    "sigmas = jnp.array([0.5, 1, 2, 4], dtype = dtype)\n",
    "thetas = model(sigmas)\n",
    "\n",
    "jax.vmap(solve_and_loss)(thetas[:,None])\n"
   ]
  },
  {
   "cell_type": "code",
   "execution_count": 3,
   "metadata": {},
   "outputs": [
    {
     "name": "stdout",
     "output_type": "stream",
     "text": [
      "\u001b[1m1/1\u001b[0m \u001b[32m━━━━━━━━━━━━━━━━━━━━\u001b[0m\u001b[37m\u001b[0m \u001b[1m0s\u001b[0m 8ms/step\n"
     ]
    },
    {
     "ename": "AttributeError",
     "evalue": "Exception encountered when calling loss.call().\n\n\u001b[1m'str' object has no attribute '_error_repr'\u001b[0m\n\nArguments received by loss.call():\n  • args=('<KerasTensor shape=(None, 1), dtype=float64, sparse=False, name=x_input>',)\n  • kwargs=<class 'inspect._empty'>",
     "output_type": "error",
     "traceback": [
      "\u001b[1;31m---------------------------------------------------------------------------\u001b[0m",
      "\u001b[1;31mAttributeError\u001b[0m                            Traceback (most recent call last)",
      "Cell \u001b[1;32mIn[3], line 1\u001b[0m\n\u001b[1;32m----> 1\u001b[0m loss \u001b[38;5;241m=\u001b[39m \u001b[43mmake_loss_model\u001b[49m\u001b[43m(\u001b[49m\u001b[43mmodel\u001b[49m\u001b[43m,\u001b[49m\u001b[43m \u001b[49m\u001b[43msolve_and_loss\u001b[49m\u001b[43m,\u001b[49m\u001b[43m \u001b[49m\u001b[43msigmas\u001b[49m\u001b[43m)\u001b[49m\n",
      "File \u001b[1;32mc:\\Users\\itapi\\Desktop\\Máster\\Workshop\\Differentiable_FEM\\codes\\PINN_1D\\NN_model.py:90\u001b[0m, in \u001b[0;36mmake_loss_model\u001b[1;34m(model, f, inputs)\u001b[0m\n\u001b[0;32m     86\u001b[0m xvals \u001b[38;5;241m=\u001b[39m keras\u001b[38;5;241m.\u001b[39mlayers\u001b[38;5;241m.\u001b[39mInput(shape\u001b[38;5;241m=\u001b[39m(\u001b[38;5;241m1\u001b[39m,), name\u001b[38;5;241m=\u001b[39m\u001b[38;5;124m'\u001b[39m\u001b[38;5;124mx_input\u001b[39m\u001b[38;5;124m'\u001b[39m,dtype\u001b[38;5;241m=\u001b[39mdtype)\n\u001b[0;32m     88\u001b[0m \u001b[38;5;66;03m# Compute the loss using the provided neural network and\u001b[39;00m\n\u001b[0;32m     89\u001b[0m \u001b[38;5;66;03m# integration parameters\u001b[39;00m\n\u001b[1;32m---> 90\u001b[0m output \u001b[38;5;241m=\u001b[39m \u001b[43mloss\u001b[49m\u001b[43m(\u001b[49m\u001b[43mmodel\u001b[49m\u001b[43m,\u001b[49m\u001b[43m \u001b[49m\u001b[43mf\u001b[49m\u001b[43m,\u001b[49m\u001b[43m \u001b[49m\u001b[43minputs\u001b[49m\u001b[43m)\u001b[49m\u001b[43m(\u001b[49m\u001b[43mxvals\u001b[49m\u001b[43m)\u001b[49m\n\u001b[0;32m     91\u001b[0m \u001b[38;5;66;03m# Create a Keras model for the loss\u001b[39;00m\n\u001b[0;32m     92\u001b[0m loss_model \u001b[38;5;241m=\u001b[39m keras\u001b[38;5;241m.\u001b[39mModel(inputs\u001b[38;5;241m=\u001b[39mxvals, outputs\u001b[38;5;241m=\u001b[39moutput)\n",
      "File \u001b[1;32mc:\\Users\\itapi\\miniconda3\\envs\\course\\Lib\\site-packages\\keras\\src\\utils\\traceback_utils.py:122\u001b[0m, in \u001b[0;36mfilter_traceback.<locals>.error_handler\u001b[1;34m(*args, **kwargs)\u001b[0m\n\u001b[0;32m    119\u001b[0m     filtered_tb \u001b[38;5;241m=\u001b[39m _process_traceback_frames(e\u001b[38;5;241m.\u001b[39m__traceback__)\n\u001b[0;32m    120\u001b[0m     \u001b[38;5;66;03m# To get the full stack trace, call:\u001b[39;00m\n\u001b[0;32m    121\u001b[0m     \u001b[38;5;66;03m# `keras.config.disable_traceback_filtering()`\u001b[39;00m\n\u001b[1;32m--> 122\u001b[0m     \u001b[38;5;28;01mraise\u001b[39;00m e\u001b[38;5;241m.\u001b[39mwith_traceback(filtered_tb) \u001b[38;5;28;01mfrom\u001b[39;00m \u001b[38;5;28;01mNone\u001b[39;00m\n\u001b[0;32m    123\u001b[0m \u001b[38;5;28;01mfinally\u001b[39;00m:\n\u001b[0;32m    124\u001b[0m     \u001b[38;5;28;01mdel\u001b[39;00m filtered_tb\n",
      "File \u001b[1;32mc:\\Users\\itapi\\miniconda3\\envs\\course\\Lib\\site-packages\\jax\\_src\\errors.py:314\u001b[0m, in \u001b[0;36mTracerArrayConversionError.__init__\u001b[1;34m(self, tracer)\u001b[0m\n\u001b[0;32m    311\u001b[0m \u001b[38;5;28;01mdef\u001b[39;00m \u001b[38;5;21m__init__\u001b[39m(\u001b[38;5;28mself\u001b[39m, tracer: core\u001b[38;5;241m.\u001b[39mTracer):\n\u001b[0;32m    312\u001b[0m   \u001b[38;5;28msuper\u001b[39m()\u001b[38;5;241m.\u001b[39m\u001b[38;5;21m__init__\u001b[39m(\n\u001b[0;32m    313\u001b[0m       \u001b[38;5;124m\"\u001b[39m\u001b[38;5;124mThe numpy.ndarray conversion method __array__() was called on \u001b[39m\u001b[38;5;124m\"\u001b[39m\n\u001b[1;32m--> 314\u001b[0m       \u001b[38;5;124mf\u001b[39m\u001b[38;5;124m\"\u001b[39m\u001b[38;5;132;01m{\u001b[39;00m\u001b[43mtracer\u001b[49m\u001b[38;5;241;43m.\u001b[39;49m\u001b[43m_error_repr\u001b[49m()\u001b[38;5;132;01m}\u001b[39;00m\u001b[38;5;132;01m{\u001b[39;00mtracer\u001b[38;5;241m.\u001b[39m_origin_msg()\u001b[38;5;132;01m}\u001b[39;00m\u001b[38;5;124m\"\u001b[39m)\n",
      "\u001b[1;31mAttributeError\u001b[0m: Exception encountered when calling loss.call().\n\n\u001b[1m'str' object has no attribute '_error_repr'\u001b[0m\n\nArguments received by loss.call():\n  • args=('<KerasTensor shape=(None, 1), dtype=float64, sparse=False, name=x_input>',)\n  • kwargs=<class 'inspect._empty'>"
     ]
    }
   ],
   "source": [
    "loss = make_loss_model(model, solve_and_loss, sigmas)"
   ]
  },
  {
   "cell_type": "code",
   "execution_count": 16,
   "metadata": {},
   "outputs": [
    {
     "data": {
      "text/plain": [
       "Array(-2.16229115, dtype=float64)"
      ]
     },
     "execution_count": 16,
     "metadata": {},
     "output_type": "execute_result"
    }
   ],
   "source": [
    "loss = make_loss_model(model, solve_and_loss, sigmas)\n",
    "\n",
    "loss(jnp.array([1]))"
   ]
  },
  {
   "cell_type": "code",
   "execution_count": 22,
   "metadata": {},
   "outputs": [
    {
     "data": {
      "text/plain": [
       "Array([[ 0.03157711],\n",
       "       [ 0.04159576],\n",
       "       [-0.02823659],\n",
       "       [-0.30107659]], dtype=float64)"
      ]
     },
     "execution_count": 22,
     "metadata": {},
     "output_type": "execute_result"
    }
   ],
   "source": [
    "model(sigmas[:,None])"
   ]
  },
  {
   "cell_type": "code",
   "execution_count": null,
   "metadata": {},
   "outputs": [
    {
     "data": {
      "text/plain": [
       "(Array([[0., 1.],\n",
       "        [0., 1.],\n",
       "        [0., 1.],\n",
       "        [0., 1.]], dtype=float64),\n",
       " Array([[0.        , 0.98013107],\n",
       "        [0.        , 0.98013107],\n",
       "        [0.        , 0.98013107],\n",
       "        [0.        , 0.98013107]], dtype=float64))"
      ]
     },
     "execution_count": 17,
     "metadata": {},
     "output_type": "execute_result"
    }
   ],
   "source": [
    "thetas = model(sigmas)\n",
    "jax.vmap(solve)(thetas[:, None])"
   ]
  },
  {
   "cell_type": "code",
   "execution_count": 53,
   "metadata": {},
   "outputs": [
    {
     "data": {
      "text/plain": [
       "Array([[[0.1 , 0.2 , 0.5 , 0.2 ]],\n",
       "\n",
       "       [[0.25, 0.25, 0.25, 0.25]]], dtype=float64)"
      ]
     },
     "execution_count": 53,
     "metadata": {},
     "output_type": "execute_result"
    }
   ],
   "source": [
    "model = make_model(5)\n",
    "init_nodes = model(jnp.array([1]))\n",
    "theta_1 = jnp.array([[0.1, 0.2, 0.5, 0.2]])\n",
    "theta_2 = jnp.array([[0.25, 0.25, 0.25, 0.25]])\n",
    "\n",
    "thetas = jnp.array([theta_1, theta_2])\n",
    "thetas"
   ]
  },
  {
   "cell_type": "code",
   "execution_count": 54,
   "metadata": {},
   "outputs": [
    {
     "data": {
      "text/plain": [
       "(Array([[0.        , 0.21266793, 0.44770233, 0.76496559, 1.        ],\n",
       "        [0.        , 0.25      , 0.5       , 0.75      , 1.        ]],      dtype=float64),\n",
       " Array([[0.        , 0.33149079, 0.5629766 , 0.82224691, 0.9932589 ],\n",
       "        [0.        , 0.37128653, 0.60801778, 0.81006002, 0.99245915]],      dtype=float64))"
      ]
     },
     "execution_count": 54,
     "metadata": {},
     "output_type": "execute_result"
    }
   ],
   "source": [
    "jax.vmap(solve)(thetas)"
   ]
  },
  {
   "cell_type": "code",
   "execution_count": 46,
   "metadata": {},
   "outputs": [
    {
     "ename": "IndexError",
     "evalue": "tuple index out of range",
     "output_type": "error",
     "traceback": [
      "\u001b[1;31m---------------------------------------------------------------------------\u001b[0m",
      "\u001b[1;31mIndexError\u001b[0m                                Traceback (most recent call last)",
      "Cell \u001b[1;32mIn[46], line 1\u001b[0m\n\u001b[1;32m----> 1\u001b[0m \u001b[43mjax\u001b[49m\u001b[38;5;241;43m.\u001b[39;49m\u001b[43mvmap\u001b[49m\u001b[43m(\u001b[49m\u001b[43msolve\u001b[49m\u001b[43m)\u001b[49m\u001b[43m(\u001b[49m\u001b[43mthetas\u001b[49m\u001b[43m)\u001b[49m\n",
      "    \u001b[1;31m[... skipping hidden 3 frame]\u001b[0m\n",
      "File \u001b[1;32mc:\\Users\\itapi\\Desktop\\Máster\\Workshop\\Differentiable_FEM\\codes\\PINN_1D\\Laplace_JAXSparse.py:139\u001b[0m, in \u001b[0;36msolve\u001b[1;34m(theta)\u001b[0m\n\u001b[0;32m    138\u001b[0m \u001b[38;5;28;01mdef\u001b[39;00m \u001b[38;5;21msolve\u001b[39m(theta):\n\u001b[1;32m--> 139\u001b[0m     n_nodes \u001b[38;5;241m=\u001b[39m \u001b[43mtheta\u001b[49m\u001b[38;5;241;43m.\u001b[39;49m\u001b[43mshape\u001b[49m\u001b[43m[\u001b[49m\u001b[38;5;241;43m1\u001b[39;49m\u001b[43m]\u001b[49m \u001b[38;5;241m+\u001b[39m \u001b[38;5;241m1\u001b[39m\n\u001b[0;32m    140\u001b[0m     n_elements \u001b[38;5;241m=\u001b[39m n_nodes \u001b[38;5;241m-\u001b[39m \u001b[38;5;241m1\u001b[39m\n\u001b[0;32m    141\u001b[0m     node_coords \u001b[38;5;241m=\u001b[39m softmax_nodes(theta)\n",
      "\u001b[1;31mIndexError\u001b[0m: tuple index out of range"
     ]
    }
   ],
   "source": [
    "jax.vmap(solve)(thetas)\n"
   ]
  }
 ],
 "metadata": {
  "kernelspec": {
   "display_name": "course",
   "language": "python",
   "name": "python3"
  },
  "language_info": {
   "codemirror_mode": {
    "name": "ipython",
    "version": 3
   },
   "file_extension": ".py",
   "mimetype": "text/x-python",
   "name": "python",
   "nbconvert_exporter": "python",
   "pygments_lexer": "ipython3",
   "version": "3.12.0"
  }
 },
 "nbformat": 4,
 "nbformat_minor": 2
}
