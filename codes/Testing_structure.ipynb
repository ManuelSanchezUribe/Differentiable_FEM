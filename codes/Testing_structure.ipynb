{
 "cells": [
  {
   "cell_type": "code",
   "execution_count": 8,
   "metadata": {},
   "outputs": [],
   "source": [
    "from Laplace_JAXDense import solve_and_loss\n"
   ]
  },
  {
   "cell_type": "code",
   "execution_count": 1,
   "metadata": {},
   "outputs": [],
   "source": [
    "# -*- coding: utf-8 -*-\n",
    "'''\n",
    "Created on Oct 2023\n",
    "\n",
    "@authors:   Jamie Taylor (CUNEF)\n",
    "            Manuela Bastidas (UPV/EHU)\n",
    "            Tomas Teijeiro (BCAM)\n",
    "            https://www.mathmode.science/\n",
    "            \n",
    "Updated on Jan 2025 by:\n",
    "    Ángel Javier Omella\n",
    "'''\n",
    "\n",
    "# This code presents a simple implementation of Physics-Informed\n",
    "# Neural Networks (PINNs) as a collocation method. -- <50 lines of PINNS--\n",
    "\n",
    "# In this 1D example, we utilize Keras for constructing neural networks\n",
    "# and JAX in the backend.\n",
    "\n",
    "\n",
    "import jax\n",
    "import jax.numpy as jnp\n",
    "import numpy as np\n",
    "import matplotlib.pyplot as plt\n",
    "\n",
    "import os\n",
    "\n",
    "os.environ[\"KERAS_BACKEND\"] = \"jax\"\n",
    "\n",
    "import keras"
   ]
  },
  {
   "cell_type": "code",
   "execution_count": 11,
   "metadata": {},
   "outputs": [],
   "source": [
    "\n",
    "# Set the random seed\n",
    "np.random.seed(1234)\n",
    "keras.utils.set_random_seed(1234)\n",
    "\n",
    "dtype='float64' # double precision set to default in the SCR functions\n",
    "jax.config.update(\"jax_enable_x64\", True)\n",
    "keras.backend.set_floatx(dtype)\n",
    "\n",
    "\n",
    "# =============================================================================\n",
    "#\n",
    "#          Source code - PINNs H01 1D\n",
    "#\n",
    "# =============================================================================\n",
    "\n",
    "\n",
    "## Define an approximate solution (u_nn): A neural network model\n",
    "def make_model(neurons, n_layers, n_output, activation='tanh'):\n",
    "\n",
    "    \"\"\"\n",
    "    Creates a neural network model to approximate the solution of\n",
    "        int (grad u ).(grad v) - int f.v = 0\n",
    "\n",
    "    Args:\n",
    "        neurons (int): The number of neurons in each hidden layer.\n",
    "        activation (str, optional): Activation function for hidden layers.\n",
    "\n",
    "    Returns:\n",
    "        keras.Model: A neural network model for the approximate solution.\n",
    "    \"\"\"\n",
    "\n",
    "    xvals = keras.layers.Input(shape=(1,), name='x_input',dtype=dtype)\n",
    "\n",
    "\t# The input\n",
    "    l1 = keras.layers.Dense(neurons, activation=activation, dtype=dtype)(xvals)\n",
    "\n",
    "    ## ---------------\n",
    "    #  The dense layers\n",
    "    ## ---------------\n",
    "\n",
    "    # First layer\n",
    "    for l in range(n_layers-2):\n",
    "        # Hidden layers\n",
    "        l1 = keras.layers.Dense(neurons, activation=activation, dtype=dtype)(l1)\n",
    "    # Last layer\n",
    "    output = keras.layers.Dense(n_output, activation='softmax', dtype=dtype)(l1)\n",
    "\n",
    "    model = keras.Model(inputs = xvals, outputs = output, name='model')\n",
    "\n",
    "    # Print the information of the model u\n",
    "    model.summary()\n",
    "\n",
    "    return model"
   ]
  },
  {
   "cell_type": "code",
   "execution_count": 12,
   "metadata": {},
   "outputs": [
    {
     "data": {
      "text/html": [
       "<pre style=\"white-space:pre;overflow-x:auto;line-height:normal;font-family:Menlo,'DejaVu Sans Mono',consolas,'Courier New',monospace\"><span style=\"font-weight: bold\">Model: \"model\"</span>\n",
       "</pre>\n"
      ],
      "text/plain": [
       "\u001b[1mModel: \"model\"\u001b[0m\n"
      ]
     },
     "metadata": {},
     "output_type": "display_data"
    },
    {
     "data": {
      "text/html": [
       "<pre style=\"white-space:pre;overflow-x:auto;line-height:normal;font-family:Menlo,'DejaVu Sans Mono',consolas,'Courier New',monospace\">┏━━━━━━━━━━━━━━━━━━━━━━━━━━━━━━━━━┳━━━━━━━━━━━━━━━━━━━━━━━━┳━━━━━━━━━━━━━━━┓\n",
       "┃<span style=\"font-weight: bold\"> Layer (type)                    </span>┃<span style=\"font-weight: bold\"> Output Shape           </span>┃<span style=\"font-weight: bold\">       Param # </span>┃\n",
       "┡━━━━━━━━━━━━━━━━━━━━━━━━━━━━━━━━━╇━━━━━━━━━━━━━━━━━━━━━━━━╇━━━━━━━━━━━━━━━┩\n",
       "│ x_input (<span style=\"color: #0087ff; text-decoration-color: #0087ff\">InputLayer</span>)            │ (<span style=\"color: #00d7ff; text-decoration-color: #00d7ff\">None</span>, <span style=\"color: #00af00; text-decoration-color: #00af00\">1</span>)              │             <span style=\"color: #00af00; text-decoration-color: #00af00\">0</span> │\n",
       "├─────────────────────────────────┼────────────────────────┼───────────────┤\n",
       "│ dense_2 (<span style=\"color: #0087ff; text-decoration-color: #0087ff\">Dense</span>)                 │ (<span style=\"color: #00d7ff; text-decoration-color: #00d7ff\">None</span>, <span style=\"color: #00af00; text-decoration-color: #00af00\">10</span>)             │            <span style=\"color: #00af00; text-decoration-color: #00af00\">20</span> │\n",
       "├─────────────────────────────────┼────────────────────────┼───────────────┤\n",
       "│ dense_3 (<span style=\"color: #0087ff; text-decoration-color: #0087ff\">Dense</span>)                 │ (<span style=\"color: #00d7ff; text-decoration-color: #00d7ff\">None</span>, <span style=\"color: #00af00; text-decoration-color: #00af00\">10</span>)             │           <span style=\"color: #00af00; text-decoration-color: #00af00\">110</span> │\n",
       "└─────────────────────────────────┴────────────────────────┴───────────────┘\n",
       "</pre>\n"
      ],
      "text/plain": [
       "┏━━━━━━━━━━━━━━━━━━━━━━━━━━━━━━━━━┳━━━━━━━━━━━━━━━━━━━━━━━━┳━━━━━━━━━━━━━━━┓\n",
       "┃\u001b[1m \u001b[0m\u001b[1mLayer (type)                   \u001b[0m\u001b[1m \u001b[0m┃\u001b[1m \u001b[0m\u001b[1mOutput Shape          \u001b[0m\u001b[1m \u001b[0m┃\u001b[1m \u001b[0m\u001b[1m      Param #\u001b[0m\u001b[1m \u001b[0m┃\n",
       "┡━━━━━━━━━━━━━━━━━━━━━━━━━━━━━━━━━╇━━━━━━━━━━━━━━━━━━━━━━━━╇━━━━━━━━━━━━━━━┩\n",
       "│ x_input (\u001b[38;5;33mInputLayer\u001b[0m)            │ (\u001b[38;5;45mNone\u001b[0m, \u001b[38;5;34m1\u001b[0m)              │             \u001b[38;5;34m0\u001b[0m │\n",
       "├─────────────────────────────────┼────────────────────────┼───────────────┤\n",
       "│ dense_2 (\u001b[38;5;33mDense\u001b[0m)                 │ (\u001b[38;5;45mNone\u001b[0m, \u001b[38;5;34m10\u001b[0m)             │            \u001b[38;5;34m20\u001b[0m │\n",
       "├─────────────────────────────────┼────────────────────────┼───────────────┤\n",
       "│ dense_3 (\u001b[38;5;33mDense\u001b[0m)                 │ (\u001b[38;5;45mNone\u001b[0m, \u001b[38;5;34m10\u001b[0m)             │           \u001b[38;5;34m110\u001b[0m │\n",
       "└─────────────────────────────────┴────────────────────────┴───────────────┘\n"
      ]
     },
     "metadata": {},
     "output_type": "display_data"
    },
    {
     "data": {
      "text/html": [
       "<pre style=\"white-space:pre;overflow-x:auto;line-height:normal;font-family:Menlo,'DejaVu Sans Mono',consolas,'Courier New',monospace\"><span style=\"font-weight: bold\"> Total params: </span><span style=\"color: #00af00; text-decoration-color: #00af00\">130</span> (1.02 KB)\n",
       "</pre>\n"
      ],
      "text/plain": [
       "\u001b[1m Total params: \u001b[0m\u001b[38;5;34m130\u001b[0m (1.02 KB)\n"
      ]
     },
     "metadata": {},
     "output_type": "display_data"
    },
    {
     "data": {
      "text/html": [
       "<pre style=\"white-space:pre;overflow-x:auto;line-height:normal;font-family:Menlo,'DejaVu Sans Mono',consolas,'Courier New',monospace\"><span style=\"font-weight: bold\"> Trainable params: </span><span style=\"color: #00af00; text-decoration-color: #00af00\">130</span> (1.02 KB)\n",
       "</pre>\n"
      ],
      "text/plain": [
       "\u001b[1m Trainable params: \u001b[0m\u001b[38;5;34m130\u001b[0m (1.02 KB)\n"
      ]
     },
     "metadata": {},
     "output_type": "display_data"
    },
    {
     "data": {
      "text/html": [
       "<pre style=\"white-space:pre;overflow-x:auto;line-height:normal;font-family:Menlo,'DejaVu Sans Mono',consolas,'Courier New',monospace\"><span style=\"font-weight: bold\"> Non-trainable params: </span><span style=\"color: #00af00; text-decoration-color: #00af00\">0</span> (0.00 B)\n",
       "</pre>\n"
      ],
      "text/plain": [
       "\u001b[1m Non-trainable params: \u001b[0m\u001b[38;5;34m0\u001b[0m (0.00 B)\n"
      ]
     },
     "metadata": {},
     "output_type": "display_data"
    }
   ],
   "source": [
    "model = make_model(neurons=10, n_output=10, n_layers=1)"
   ]
  },
  {
   "cell_type": "code",
   "execution_count": 13,
   "metadata": {},
   "outputs": [
    {
     "data": {
      "text/plain": [
       "Array([[0.08652977, 0.12354626, 0.09024292, 0.064689  , 0.13327708,\n",
       "        0.09874309, 0.07757674, 0.16143284, 0.08189248, 0.08206984]],      dtype=float64)"
      ]
     },
     "execution_count": 13,
     "metadata": {},
     "output_type": "execute_result"
    }
   ],
   "source": [
    "output = model(jnp.array([1]))\n",
    "output"
   ]
  },
  {
   "cell_type": "code",
   "execution_count": 15,
   "metadata": {},
   "outputs": [
    {
     "data": {
      "text/plain": [
       "Array([[0.08652977, 0.12354626, 0.09024292, 0.064689  , 0.13327708,\n",
       "        0.09874309, 0.07757674, 0.16143284, 0.08189248, 0.08206984]],      dtype=float64)"
      ]
     },
     "execution_count": 15,
     "metadata": {},
     "output_type": "execute_result"
    }
   ],
   "source": [
    "output"
   ]
  },
  {
   "cell_type": "code",
   "execution_count": 16,
   "metadata": {},
   "outputs": [
    {
     "data": {
      "text/plain": [
       "Array([0.08652977, 0.21007602, 0.30031894, 0.36500794, 0.49828501,\n",
       "       0.5970281 , 0.67460484, 0.83603768, 0.91793016, 1.        ],      dtype=float64)"
      ]
     },
     "execution_count": 16,
     "metadata": {},
     "output_type": "execute_result"
    }
   ],
   "source": [
    "jnp.cumsum(output)"
   ]
  },
  {
   "cell_type": "code",
   "execution_count": 46,
   "metadata": {},
   "outputs": [],
   "source": [
    "class special_layer(keras.layers.Layer):\n",
    "    def __init__(self, n_nodes, dimension, w_interior_initial_values = None, **kwargs):\n",
    "        super().__init__(**kwargs)\n",
    "\n",
    "        self.mobile_interior_vertices = self.add_weight(shape = (dimension, n_nodes), initializer = 'ones')\n",
    "        \n",
    "        if w_interior_initial_values is not None:\n",
    "            self.mobile_interior_vertices.assign(w_interior_initial_values)\n",
    "        else:\n",
    "            self.mobile_interior_vertices.assign(jnp.ones((dimension, n_nodes)) / n_nodes)\n",
    "\n",
    "    def call(self, inputs):\n",
    "        return self.mobile_interior_vertices\n",
    "\n",
    "def make_special_model(n_nodes, dimension, w_interior_initial_values):\n",
    "    L = special_layer(n_nodes, dimension, w_interior_initial_values)\n",
    "    xvals = keras.layers.Input(shape=(1,), name='x_input',dtype=dtype)\n",
    "    output = L(xvals)\n",
    "    model = keras.Model(inputs=xvals, outputs=output, name='model')\n",
    "    return model"
   ]
  },
  {
   "cell_type": "code",
   "execution_count": 48,
   "metadata": {},
   "outputs": [],
   "source": [
    "model = make_special_model(10, 1, None)"
   ]
  },
  {
   "cell_type": "code",
   "execution_count": 49,
   "metadata": {},
   "outputs": [
    {
     "data": {
      "text/plain": [
       "<Variable path=special_layer_19/variable_18, shape=(1, 10), dtype=float64, value=[[0.1 0.1 0.1 0.1 0.1 0.1 0.1 0.1 0.1 0.1]]>"
      ]
     },
     "execution_count": 49,
     "metadata": {},
     "output_type": "execute_result"
    }
   ],
   "source": [
    "model(jnp.array([1]))"
   ]
  }
 ],
 "metadata": {
  "kernelspec": {
   "display_name": "course",
   "language": "python",
   "name": "python3"
  },
  "language_info": {
   "codemirror_mode": {
    "name": "ipython",
    "version": 3
   },
   "file_extension": ".py",
   "mimetype": "text/x-python",
   "name": "python",
   "nbconvert_exporter": "python",
   "pygments_lexer": "ipython3",
   "version": "3.12.0"
  }
 },
 "nbformat": 4,
 "nbformat_minor": 2
}
