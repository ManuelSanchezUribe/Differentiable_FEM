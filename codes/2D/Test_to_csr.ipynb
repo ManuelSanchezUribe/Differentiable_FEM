{
 "cells": [
  {
   "cell_type": "markdown",
   "metadata": {},
   "source": [
    "########################################################################################\n",
    "# Workshop: Coding for PDEs with Neural Networks\n",
    "# Date: 2025-24-01\n",
    "# Author: Danilo Aballay, Vicente Iligaray, Ignacio Tapia y Manuel Sánchez\n",
    "########################################################################################"
   ]
  },
  {
   "cell_type": "code",
   "execution_count": 7,
   "metadata": {},
   "outputs": [],
   "source": [
    "import jax.numpy as jnp\n",
    "from jax.ops import segment_sum\n",
    "import jax.experimental.sparse as sparse\n",
    "from jax import jit\n",
    "import jax\n",
    "from functools import partial\n",
    "\n",
    "elements =jnp.array([[0, 1], [1, 2], [2, 3]])\n",
    "NE = elements.shape[0]\n",
    "\n",
    "SK = jnp.array([[1,-1],[-1,1]])\n",
    "ke_values = jnp.zeros(((NE, 2, 2)))\n",
    "for i in range(NE):\n",
    "    ke_values = ke_values.at[i,:,:].set(SK)"
   ]
  },
  {
   "cell_type": "code",
   "execution_count": 9,
   "metadata": {},
   "outputs": [
    {
     "name": "stdout",
     "output_type": "stream",
     "text": [
      "[[ 1.  0.  0.  0.]\n",
      " [ 0.  2. -1.  0.]\n",
      " [ 0. -1.  2. -1.]\n",
      " [ 0.  0. -1.  1.]]\n",
      "[[ 1.  0.  0.  0.]\n",
      " [ 0.  2. -1.  0.]\n",
      " [ 0. -1.  2. -1.]\n",
      " [ 0.  0. -1.  1.]]\n"
     ]
    }
   ],
   "source": [
    "@jit\n",
    "def create_COO(elements, ke_values):\n",
    "    NE       = elements.shape[0]\n",
    "    dof_mat  = jnp.tile(elements[:, None, :], (1, 2, 1))\n",
    "    dof_rows = dof_mat.reshape(NE, -1, order='C')\n",
    "    dof_cols = dof_mat.reshape(NE, -1, order='F')\n",
    "\n",
    "    rows = dof_rows.reshape(-1)\n",
    "    cols = dof_cols.reshape(-1)\n",
    "    ke_values_flatten = ke_values.reshape(-1)\n",
    "    ke_values_flatten = ke_values_flatten.at[1:3].set(0)\n",
    "    ke_values_flatten = ke_values_flatten.at[0].set(1)\n",
    "\n",
    "    return sparse.COO((ke_values_flatten, rows, cols), shape=(NE+1, NE+1))\n",
    "\n",
    "@partial(jax.jit, static_argnames=['n_removes', 'n_init_rows'])\n",
    "def to_csr(COO, n_removes, n_init_rows):\n",
    "        # Crear una clave única para cada par de coordenadas (row, col)\n",
    "    row  = COO.row\n",
    "    col  = COO.col\n",
    "    data = COO.data\n",
    "    max_col = col.max() + 1  # Asegurarse de que no haya colisiones\n",
    "    keys    = row * max_col + col\n",
    "\n",
    "    # Determinar los índices únicos y asignar un índice inverso\n",
    "    sort_indices = jnp.argsort(keys)\n",
    "    sorted_keys  = keys[sort_indices]\n",
    "    sorted_data  = data[sort_indices]\n",
    "    sorted_row   = row[sort_indices]\n",
    "    sorted_col   = col[sort_indices]\n",
    "\n",
    "    # Identificar posiciones únicas manualmente sin usar `jnp.where`\n",
    "    unique_mask = jnp.diff(jnp.concatenate([jnp.array([-1]), sorted_keys])) != 0\n",
    "    unique_indices = jnp.nonzero(unique_mask, size = sorted_keys.shape[0]-n_removes)[0]\n",
    "\n",
    "    # Crear un índice inverso que mapea cada clave al índice único correspondiente\n",
    "    inverse_indices = jnp.cumsum(unique_mask) - 1\n",
    "\n",
    "    # Sumar los valores de `data` para los índices únicos\n",
    "    data_summed = segment_sum(sorted_data, inverse_indices, num_segments=len(unique_indices))\n",
    "\n",
    "    # Extraer coordenadas únicas\n",
    "    final_row = sorted_row[unique_indices]\n",
    "    final_col = sorted_col[unique_indices]\n",
    "\n",
    "    # indices_filas = jnp.where(jnp.concatenate([jnp.array([True]), final_row[1:] != final_row[:-1]]))[0]\n",
    "    # indices_filas = jnp.append(indices_filas, COO.size)\n",
    "    change_mask = jnp.concatenate([jnp.array([True]), final_row[1:] != final_row[:-1]])\n",
    "\n",
    "    # Obtener los índices explícitos donde ocurre un cambio\n",
    "    indices_filas = jnp.nonzero(change_mask, size=final_row.size, fill_value=0)[0]\n",
    "\n",
    "    # Agregar el tamaño total como un índice adicional\n",
    "    indices_filas = jnp.append(indices_filas[0:n_init_rows], len(final_col))\n",
    "\n",
    "    return sparse.CSR((data_summed, final_col, indices_filas), shape=COO.shape)\n",
    "    # return data_summed, final_row, final_col, indices_filas\n",
    "\n",
    "\n",
    "A_COO = create_COO(elements, ke_values)\n",
    "A_CSR = to_csr(A_COO, A_COO.shape[0]-2, A_COO.shape[0])\n",
    "\n",
    "print(A_COO.todense())\n",
    "print(A_CSR.todense())\n"
   ]
  },
  {
   "cell_type": "code",
   "execution_count": 1,
   "metadata": {},
   "outputs": [],
   "source": [
    "import jax.numpy as jnp\n",
    "# from jax.ops import segment_sum\n",
    "import jax.experimental.sparse as sparse\n",
    "from jax.ops import segment_sum\n",
    "from jax import jit\n",
    "import jax\n",
    "from functools import partial\n",
    "\n",
    "from r_adaptivity_sparse import make_loss_model, make_model\n"
   ]
  },
  {
   "cell_type": "code",
   "execution_count": 2,
   "metadata": {},
   "outputs": [],
   "source": [
    "#  Number of neurons per hidden layer in the neural network\n",
    "nn = int(4) # Two times the number of neurons \n",
    "\n",
    "# Initialize the neural network model for the approximate solution\n",
    "model = make_model(nn)\n",
    "\n",
    "theta = model(jnp.array([1]))"
   ]
  },
  {
   "cell_type": "code",
   "execution_count": 3,
   "metadata": {},
   "outputs": [
    {
     "name": "stdout",
     "output_type": "stream",
     "text": [
      "[[ 0.66666667 -0.16666667  0.         -0.16666667 -0.33333333  0.\n",
      "   0.          0.          0.        ]\n",
      " [-0.16666667  1.33333333 -0.16666667 -0.33333333 -0.33333333 -0.33333333\n",
      "   0.          0.          0.        ]\n",
      " [ 0.         -0.16666667  0.66666667  0.         -0.33333333 -0.16666667\n",
      "   0.          0.          0.        ]\n",
      " [-0.16666667 -0.33333333  0.          1.33333333 -0.33333333  0.\n",
      "  -0.16666667 -0.33333333  0.        ]\n",
      " [-0.33333333 -0.33333333 -0.33333333 -0.33333333  2.66666667 -0.33333333\n",
      "  -0.33333333 -0.33333333 -0.33333333]\n",
      " [ 0.         -0.33333333 -0.16666667  0.         -0.33333333  1.33333333\n",
      "   0.         -0.33333333 -0.16666667]\n",
      " [ 0.          0.          0.         -0.16666667 -0.33333333  0.\n",
      "   0.66666667 -0.16666667  0.        ]\n",
      " [ 0.          0.          0.         -0.33333333 -0.33333333 -0.33333333\n",
      "  -0.16666667  1.33333333 -0.16666667]\n",
      " [ 0.          0.          0.          0.         -0.33333333 -0.16666667\n",
      "   0.         -0.16666667  0.66666667]]\n"
     ]
    }
   ],
   "source": [
    "from Laplace_JAXSparse2D import softmax_nodes, generate_mesh, element_stiffness, create_COO, to_csr, solve\n",
    "values_phi0_ = jnp.array([[0.9083804012656871,  0.7331497981296533,  0.47654496148466596, 0.21994012483967862, 0.04470952170364481],\n",
    "                         [0.7331497981296533,  0.591721954534264, 0.38461732752642075, 0.17751270051857745,  0.036084856923188136],\n",
    "                         [0.47654496148466596, 0.38461732752642075, 0.25,       0.11538267247357925, 0.02345503851533401],\n",
    "                         [0.21994012483967862, 0.17751270051857745,  0.11538267247357925, 0.053252644428581054, 0.010825220107479883],\n",
    "                         [0.04470952170364481, 0.036084856923188136, 0.02345503851533401, 0.010825220107479883, 0.002200555327023207]])\n",
    "nx = int(theta.shape[1]/2) +1\n",
    "ny = nx\n",
    "\n",
    "node_coords_x, node_coords_y  = softmax_nodes(theta)\n",
    "coords, elements = generate_mesh(nx, ny, node_coords_x, node_coords_y)\n",
    "n_elements = elements.shape[0]\n",
    "n_nodes = coords.shape[0]\n",
    "\n",
    "dirichlet_nodes = jnp.append(jnp.arange(nx),nx*jnp.arange(1,ny))\n",
    "neumann_nodes = jnp.append(nx*jnp.arange(2,ny)-1, jnp.arange((ny-1)*nx-1, ny*nx))\n",
    "\n",
    "dirichlet_nodes = jnp.append(dirichlet_nodes, neumann_nodes)\n",
    "\n",
    "# Extract the coordinates for the start and end points of each element\n",
    "start_coords = coords[elements[:, 0], :]\n",
    "end_coords = coords[elements[:, 2], :]\n",
    "\n",
    "# Compute element lengths in a vectorized manner\n",
    "element_length = end_coords - start_coords\n",
    "\n",
    "n_nodes = coords.shape[0]\n",
    "### ASSEMBLE CSR\n",
    "\n",
    "ke_values = jax.vmap(element_stiffness)(element_length)\n",
    "\n",
    "A_COO = create_COO(elements, ke_values, n_nodes)\n",
    "print(A_COO.todense())\n"
   ]
  },
  {
   "cell_type": "code",
   "execution_count": 4,
   "metadata": {},
   "outputs": [],
   "source": [
    "COO = A_COO\n",
    "n_removes = 0\n",
    "n_init_rows = n_nodes\n",
    "row  = COO.row\n",
    "col  = COO.col\n",
    "data = COO.data\n",
    "max_col = col.max() + 1  \n",
    "keys    = row * max_col + col\n",
    "\n",
    "sort_indices = jnp.argsort(keys)\n",
    "sorted_keys  = keys[sort_indices]\n",
    "sorted_data  = data[sort_indices]\n",
    "sorted_row   = row[sort_indices]\n",
    "sorted_col   = col[sort_indices]\n",
    "\n",
    "unique_mask = jnp.diff(jnp.concatenate([jnp.array([-1]), sorted_keys])) != 0\n",
    "unique_indices = jnp.nonzero(unique_mask, size = sorted_keys.shape[0]-n_removes)[0]\n",
    "\n",
    "inverse_indices = jnp.cumsum(unique_mask) - 1\n",
    "\n",
    "data_summed = segment_sum(sorted_data, inverse_indices, num_segments=len(unique_indices))\n",
    "\n",
    "final_row = sorted_row[unique_indices]\n",
    "final_col = sorted_col[unique_indices]\n",
    "change_mask = jnp.concatenate([jnp.array([True]), final_row[1:] != final_row[:-1]])\n",
    "\n",
    "indices_filas = jnp.nonzero(change_mask, size=final_row.size, fill_value=0)[0]\n",
    "\n",
    "indices_filas = jnp.append(indices_filas[0:n_init_rows], len(final_col))\n",
    "\n",
    "# return sparse.CSR((data_summed, final_col, indices_filas), shape=COO.shape)\n"
   ]
  },
  {
   "cell_type": "code",
   "execution_count": 36,
   "metadata": {},
   "outputs": [
    {
     "data": {
      "text/plain": [
       "(1024,)"
      ]
     },
     "execution_count": 36,
     "metadata": {},
     "output_type": "execute_result"
    }
   ],
   "source": [
    "final_col.shape"
   ]
  },
  {
   "cell_type": "code",
   "execution_count": 13,
   "metadata": {},
   "outputs": [
    {
     "data": {
      "text/plain": [
       "49"
      ]
     },
     "execution_count": 13,
     "metadata": {},
     "output_type": "execute_result"
    }
   ],
   "source": [
    "to_remove"
   ]
  },
  {
   "cell_type": "code",
   "execution_count": 10,
   "metadata": {},
   "outputs": [
    {
     "data": {
      "text/plain": [
       "49"
      ]
     },
     "execution_count": 10,
     "metadata": {},
     "output_type": "execute_result"
    }
   ],
   "source": [
    "to_remove+24"
   ]
  },
  {
   "cell_type": "code",
   "execution_count": 14,
   "metadata": {},
   "outputs": [
    {
     "data": {
      "text/plain": [
       "Array([0, 0, 0, 0, 0, 0, 0, 0, 0, 0, 0, 0, 0, 0, 0], dtype=int64)"
      ]
     },
     "execution_count": 14,
     "metadata": {},
     "output_type": "execute_result"
    }
   ],
   "source": [
    "to_remove = 16 + 2*(nx-2)*6 + 2*(ny-2)*6 + 9*(nx-2)*(ny-2) \n",
    "A_val_length = 16*elements.shape[0]\n",
    "final_col[-(A_val_length-to_remove):]"
   ]
  },
  {
   "cell_type": "code",
   "execution_count": 15,
   "metadata": {},
   "outputs": [
    {
     "name": "stdout",
     "output_type": "stream",
     "text": [
      "[[ 0.66666667 -0.16666667  0.         -0.16666667 -0.33333333  0.\n",
      "   0.          0.          0.        ]\n",
      " [-0.16666667  1.33333333 -0.16666667 -0.33333333 -0.33333333 -0.33333333\n",
      "   0.          0.          0.        ]\n",
      " [ 0.         -0.16666667  0.66666667  0.         -0.33333333 -0.16666667\n",
      "   0.          0.          0.        ]\n",
      " [-0.16666667 -0.33333333  0.          1.33333333 -0.33333333  0.\n",
      "  -0.16666667 -0.33333333  0.        ]\n",
      " [-0.33333333 -0.33333333 -0.33333333 -0.33333333  2.66666667 -0.33333333\n",
      "  -0.33333333 -0.33333333 -0.33333333]\n",
      " [ 0.         -0.33333333 -0.16666667  0.         -0.33333333  1.33333333\n",
      "   0.         -0.33333333 -0.16666667]\n",
      " [ 0.          0.          0.         -0.16666667 -0.33333333  0.\n",
      "   0.66666667 -0.16666667  0.        ]\n",
      " [ 0.          0.          0.         -0.33333333 -0.33333333 -0.33333333\n",
      "  -0.16666667  1.33333333 -0.16666667]\n",
      " [ 0.          0.          0.          0.         -0.33333333 -0.16666667\n",
      "   0.         -0.16666667  0.66666667]]\n"
     ]
    }
   ],
   "source": [
    "A_CSR = to_csr(A_COO, A_val_length -  to_remove, n_nodes)\n",
    "print(A_CSR.todense())"
   ]
  },
  {
   "cell_type": "code",
   "execution_count": 23,
   "metadata": {},
   "outputs": [
    {
     "name": "stdout",
     "output_type": "stream",
     "text": [
      "True\n"
     ]
    }
   ],
   "source": [
    "print(jnp.all(A_CSR.todense() == A_COO.todense()))"
   ]
  },
  {
   "cell_type": "code",
   "execution_count": 28,
   "metadata": {},
   "outputs": [
    {
     "data": {
      "text/plain": [
       "Array([0, 1, 4, 3, 0, 1, 4, 3, 0, 1, 4, 3, 0, 1, 4, 3, 1, 2, 5, 4, 1, 2,\n",
       "       5, 4, 1, 2, 5, 4, 1, 2, 5, 4, 3, 4, 7, 6, 3, 4, 7, 6, 3, 4, 7, 6,\n",
       "       3, 4, 7, 6, 4, 5, 8, 7, 4, 5, 8, 7, 4, 5, 8, 7, 4, 5, 8, 7],      dtype=int64)"
      ]
     },
     "execution_count": 28,
     "metadata": {},
     "output_type": "execute_result"
    }
   ],
   "source": [
    "row"
   ]
  },
  {
   "cell_type": "code",
   "execution_count": 29,
   "metadata": {},
   "outputs": [
    {
     "ename": "TypeError",
     "evalue": "Only integer scalar arrays can be converted to a scalar index.",
     "output_type": "error",
     "traceback": [
      "\u001b[1;31m---------------------------------------------------------------------------\u001b[0m",
      "\u001b[1;31mTypeError\u001b[0m                                 Traceback (most recent call last)",
      "Cell \u001b[1;32mIn[29], line 5\u001b[0m\n\u001b[0;32m      2\u001b[0m row \u001b[38;5;241m=\u001b[39m A_COO\u001b[38;5;241m.\u001b[39mrow\n\u001b[0;32m      3\u001b[0m col \u001b[38;5;241m=\u001b[39m A_COO\u001b[38;5;241m.\u001b[39mcol\n\u001b[1;32m----> 5\u001b[0m A_BCOO \u001b[38;5;241m=\u001b[39m sparse\u001b[38;5;241m.\u001b[39mBCOO((data, \u001b[43mjnp\u001b[49m\u001b[38;5;241;43m.\u001b[39;49m\u001b[43mstack\u001b[49m\u001b[43m(\u001b[49m\u001b[43mrow\u001b[49m\u001b[43m,\u001b[49m\u001b[43mcol\u001b[49m\u001b[43m)\u001b[49m), shape\u001b[38;5;241m=\u001b[39m(n_nodes, n_nodes))\n",
      "File \u001b[1;32mc:\\Users\\itapi\\miniconda3\\envs\\course\\Lib\\site-packages\\jax\\_src\\numpy\\lax_numpy.py:4465\u001b[0m, in \u001b[0;36mstack\u001b[1;34m(arrays, axis, out, dtype)\u001b[0m\n\u001b[0;32m   4463\u001b[0m   \u001b[38;5;28;01mraise\u001b[39;00m \u001b[38;5;167;01mNotImplementedError\u001b[39;00m(\u001b[38;5;124m\"\u001b[39m\u001b[38;5;124mThe \u001b[39m\u001b[38;5;124m'\u001b[39m\u001b[38;5;124mout\u001b[39m\u001b[38;5;124m'\u001b[39m\u001b[38;5;124m argument to jnp.stack is not supported.\u001b[39m\u001b[38;5;124m\"\u001b[39m)\n\u001b[0;32m   4464\u001b[0m \u001b[38;5;28;01mif\u001b[39;00m \u001b[38;5;28misinstance\u001b[39m(arrays, (np\u001b[38;5;241m.\u001b[39mndarray, Array)):\n\u001b[1;32m-> 4465\u001b[0m   axis \u001b[38;5;241m=\u001b[39m \u001b[43m_canonicalize_axis\u001b[49m\u001b[43m(\u001b[49m\u001b[43maxis\u001b[49m\u001b[43m,\u001b[49m\u001b[43m \u001b[49m\u001b[43marrays\u001b[49m\u001b[38;5;241;43m.\u001b[39;49m\u001b[43mndim\u001b[49m\u001b[43m)\u001b[49m\n\u001b[0;32m   4466\u001b[0m   \u001b[38;5;28;01mreturn\u001b[39;00m concatenate(expand_dims(arrays, axis \u001b[38;5;241m+\u001b[39m \u001b[38;5;241m1\u001b[39m), axis\u001b[38;5;241m=\u001b[39maxis, dtype\u001b[38;5;241m=\u001b[39mdtype)\n\u001b[0;32m   4467\u001b[0m \u001b[38;5;28;01melse\u001b[39;00m:\n",
      "File \u001b[1;32mc:\\Users\\itapi\\miniconda3\\envs\\course\\Lib\\site-packages\\jax\\_src\\util.py:387\u001b[0m, in \u001b[0;36mcanonicalize_axis\u001b[1;34m(axis, num_dims)\u001b[0m\n\u001b[0;32m    385\u001b[0m \u001b[38;5;28;01mdef\u001b[39;00m \u001b[38;5;21mcanonicalize_axis\u001b[39m(axis, num_dims) \u001b[38;5;241m-\u001b[39m\u001b[38;5;241m>\u001b[39m \u001b[38;5;28mint\u001b[39m:\n\u001b[0;32m    386\u001b[0m \u001b[38;5;250m  \u001b[39m\u001b[38;5;124;03m\"\"\"Canonicalize an axis in [-num_dims, num_dims) to [0, num_dims).\"\"\"\u001b[39;00m\n\u001b[1;32m--> 387\u001b[0m   axis \u001b[38;5;241m=\u001b[39m \u001b[43moperator\u001b[49m\u001b[38;5;241;43m.\u001b[39;49m\u001b[43mindex\u001b[49m\u001b[43m(\u001b[49m\u001b[43maxis\u001b[49m\u001b[43m)\u001b[49m\n\u001b[0;32m    388\u001b[0m   \u001b[38;5;28;01mif\u001b[39;00m \u001b[38;5;129;01mnot\u001b[39;00m \u001b[38;5;241m-\u001b[39mnum_dims \u001b[38;5;241m<\u001b[39m\u001b[38;5;241m=\u001b[39m axis \u001b[38;5;241m<\u001b[39m num_dims:\n\u001b[0;32m    389\u001b[0m     \u001b[38;5;28;01mraise\u001b[39;00m \u001b[38;5;167;01mValueError\u001b[39;00m(\u001b[38;5;124mf\u001b[39m\u001b[38;5;124m\"\u001b[39m\u001b[38;5;124maxis \u001b[39m\u001b[38;5;132;01m{\u001b[39;00maxis\u001b[38;5;132;01m}\u001b[39;00m\u001b[38;5;124m is out of bounds for array of dimension \u001b[39m\u001b[38;5;132;01m{\u001b[39;00mnum_dims\u001b[38;5;132;01m}\u001b[39;00m\u001b[38;5;124m\"\u001b[39m)\n",
      "File \u001b[1;32mc:\\Users\\itapi\\miniconda3\\envs\\course\\Lib\\site-packages\\jax\\_src\\array.py:317\u001b[0m, in \u001b[0;36mArrayImpl.__index__\u001b[1;34m(self)\u001b[0m\n\u001b[0;32m    316\u001b[0m \u001b[38;5;28;01mdef\u001b[39;00m \u001b[38;5;21m__index__\u001b[39m(\u001b[38;5;28mself\u001b[39m):\n\u001b[1;32m--> 317\u001b[0m   \u001b[43mcore\u001b[49m\u001b[38;5;241;43m.\u001b[39;49m\u001b[43mcheck_integer_conversion\u001b[49m\u001b[43m(\u001b[49m\u001b[38;5;28;43mself\u001b[39;49m\u001b[43m)\u001b[49m\n\u001b[0;32m    318\u001b[0m   \u001b[38;5;28;01mreturn\u001b[39;00m op\u001b[38;5;241m.\u001b[39mindex(\u001b[38;5;28mself\u001b[39m\u001b[38;5;241m.\u001b[39m_value)\n",
      "File \u001b[1;32mc:\\Users\\itapi\\miniconda3\\envs\\course\\Lib\\site-packages\\jax\\_src\\core.py:668\u001b[0m, in \u001b[0;36mcheck_integer_conversion\u001b[1;34m(arr)\u001b[0m\n\u001b[0;32m    666\u001b[0m \u001b[38;5;28;01mdef\u001b[39;00m \u001b[38;5;21mcheck_integer_conversion\u001b[39m(arr: Array):\n\u001b[0;32m    667\u001b[0m   \u001b[38;5;28;01mif\u001b[39;00m \u001b[38;5;129;01mnot\u001b[39;00m (arr\u001b[38;5;241m.\u001b[39mshape \u001b[38;5;241m==\u001b[39m () \u001b[38;5;129;01mand\u001b[39;00m dtypes\u001b[38;5;241m.\u001b[39missubdtype(arr\u001b[38;5;241m.\u001b[39mdtype, np\u001b[38;5;241m.\u001b[39minteger)):\n\u001b[1;32m--> 668\u001b[0m     \u001b[38;5;28;01mraise\u001b[39;00m \u001b[38;5;167;01mTypeError\u001b[39;00m(\u001b[38;5;124m\"\u001b[39m\u001b[38;5;124mOnly integer scalar arrays can be converted to a scalar index.\u001b[39m\u001b[38;5;124m\"\u001b[39m)\n",
      "\u001b[1;31mTypeError\u001b[0m: Only integer scalar arrays can be converted to a scalar index."
     ]
    }
   ],
   "source": [
    "data = A_COO.data\n",
    "row = A_COO.row\n",
    "col = A_COO.col\n",
    "\n",
    "A_BCOO = sparse.BCOO((data, jnp.stack(row,col)), shape=(n_nodes, n_nodes))"
   ]
  },
  {
   "cell_type": "code",
   "execution_count": 80,
   "metadata": {},
   "outputs": [
    {
     "name": "stdout",
     "output_type": "stream",
     "text": [
      "[[ 1.  0.  0.]\n",
      " [ 0.  3.  2.]\n",
      " [-7.  0.  5.]] \n",
      " [[ 1.  0. -7.]\n",
      " [ 0.  3.  0.]\n",
      " [ 0.  2.  5.]]\n"
     ]
    }
   ],
   "source": [
    "data = jnp.array([1., 3., 5., 2, -7])\n",
    "row = jnp.array([0, 1, 2, 1, 2])\n",
    "col = jnp.array([0, 1, 2, 2, 0])\n",
    "A = sparse.COO((data, row, col), shape=(3, 3))\n",
    "B = (A.T)\n",
    "print(A.todense(),'\\n', B.todense())"
   ]
  },
  {
   "cell_type": "code",
   "execution_count": 98,
   "metadata": {},
   "outputs": [
    {
     "data": {
      "text/plain": [
       "Array([ 0.9,  2.7,  4.5,  1.8, -6.3], dtype=float64)"
      ]
     },
     "execution_count": 98,
     "metadata": {},
     "output_type": "execute_result"
    }
   ],
   "source": [
    "A.data -0.1*B.data"
   ]
  },
  {
   "cell_type": "code",
   "execution_count": null,
   "metadata": {},
   "outputs": [
    {
     "name": "stdout",
     "output_type": "stream",
     "text": [
      "[[ 2.  0. -7.]\n",
      " [ 0.  6.  2.]\n",
      " [-7.  2. 10.]]\n"
     ]
    }
   ],
   "source": [
    "print(sum_COO(A, B).todense())"
   ]
  },
  {
   "cell_type": "code",
   "execution_count": 82,
   "metadata": {},
   "outputs": [
    {
     "name": "stdout",
     "output_type": "stream",
     "text": [
      "[[ 0.9  0.   0.7]\n",
      " [ 0.   2.7  2. ]\n",
      " [-7.  -0.2  4.5]]\n"
     ]
    }
   ],
   "source": [
    "A_data = jnp.concatenate([A.data, -0.1*B.data])\n",
    "A_row = jnp.concatenate([A.row, B.row])\n",
    "A_col = jnp.concatenate([A.col, B.col])\n",
    "\n",
    "A_COO = sparse.COO((A_data, A_row, A_col), shape=(3, 3))\n",
    "print(A_COO.todense())"
   ]
  },
  {
   "cell_type": "code",
   "execution_count": 94,
   "metadata": {},
   "outputs": [
    {
     "data": {
      "text/plain": [
       "Array([ 1. ,  3. ,  5. ,  2. , -7. , -0.1, -0.3, -0.5, -0.2,  0.7],      dtype=float64)"
      ]
     },
     "execution_count": 94,
     "metadata": {},
     "output_type": "execute_result"
    }
   ],
   "source": [
    "A_COO.data"
   ]
  },
  {
   "cell_type": "code",
   "execution_count": 97,
   "metadata": {},
   "outputs": [
    {
     "name": "stdout",
     "output_type": "stream",
     "text": [
      "[[ 0.9  0.   0.7]\n",
      " [ 0.   2.7  2. ]\n",
      " [-7.   0.   0. ]]\n"
     ]
    }
   ],
   "source": [
    "A_CSR = to_csr(A_COO, 5, 3)\n",
    "print(A_CSR.todense())"
   ]
  }
 ],
 "metadata": {
  "kernelspec": {
   "display_name": "course",
   "language": "python",
   "name": "python3"
  },
  "language_info": {
   "codemirror_mode": {
    "name": "ipython",
    "version": 3
   },
   "file_extension": ".py",
   "mimetype": "text/x-python",
   "name": "python",
   "nbconvert_exporter": "python",
   "pygments_lexer": "ipython3",
   "version": "3.12.0"
  }
 },
 "nbformat": 4,
 "nbformat_minor": 2
}
