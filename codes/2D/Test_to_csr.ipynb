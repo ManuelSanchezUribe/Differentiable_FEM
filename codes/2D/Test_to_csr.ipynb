{
 "cells": [
  {
   "cell_type": "code",
   "execution_count": 272,
   "metadata": {},
   "outputs": [
    {
     "name": "stdout",
     "output_type": "stream",
     "text": [
      "[[4 0 9 0]\n",
      " [0 7 0 0]\n",
      " [0 0 2 0]\n",
      " [0 0 0 5]]\n",
      "[4 5 7 2 9]\n"
     ]
    },
    {
     "data": {
      "text/plain": [
       "Array([4, 5, 7, 2, 9], dtype=int32)"
      ]
     },
     "execution_count": 272,
     "metadata": {},
     "output_type": "execute_result"
    }
   ],
   "source": [
    "import jax\n",
    "from jax import jit\n",
    "import jax.numpy as np\n",
    "import jax.experimental.sparse as sparse\n",
    "\n",
    "row  = np.array([0, 3, 1, 2, 0])\n",
    "col  = np.array([0, 3, 1, 2, 2])\n",
    "data = np.array([4, 5, 7, 2, 9])\n",
    "A_COO = sparse.COO((data,row, col), shape=(4, 4))\n",
    "print(A_COO.todense())\n",
    "\n",
    "print(A_COO.data)\n",
    "A_COO.data\n"
   ]
  },
  {
   "cell_type": "code",
   "execution_count": 359,
   "metadata": {},
   "outputs": [],
   "source": [
    "def to_csr(COO):\n",
    "    # Crear una lista de tuplas (fila, columna, valor)\n",
    "    tuplas = list(zip(COO.row, COO.col, COO.data))\n",
    "\n",
    "    # Ordenar las tuplas por fila\n",
    "    tuplas_ordenadas = np.array(sorted(tuplas, key=lambda x: x[0]))  # Asegúrate de que tuplas_ordenadas sea un array de jax.numpy\n",
    "\n",
    "    data_ordenado = tuplas_ordenadas[:, 2]\n",
    "    col_ordenado  = tuplas_ordenadas[:, 1]\n",
    "\n",
    "    # Para obtener indices_filas sin usar un bucle for\n",
    "    indices_filas = np.where(np.concatenate([np.array([True]), tuplas_ordenadas[1:, 0] != tuplas_ordenadas[:-1, 0]]))[0]\n",
    "    indices_filas = np.append(indices_filas, len(data_ordenado))\n",
    "\n",
    "    return sparse.CSR((data_ordenado, col_ordenado, indices_filas), shape=COO.shape)\n"
   ]
  },
  {
   "cell_type": "code",
   "execution_count": null,
   "metadata": {},
   "outputs": [
    {
     "name": "stdout",
     "output_type": "stream",
     "text": [
      "[0 1 0 1 1 2 1 2 2 3 2 3]\n",
      "[0 0 1 1 1 1 2 2 2 2 3 3]\n",
      "[ 1. -1. -1.  1.  1. -1. -1.  1.  1. -1. -1.  1.]\n"
     ]
    }
   ],
   "source": [
    "\n",
    "elements =np.array([[0, 1], [1, 2], [2, 3]])\n",
    "NE = elements.shape[0]\n",
    "\n",
    "SK = np.array([[1,-1],[-1,1]])\n",
    "ke_values = np.zeros(((NE, 2, 2)))\n",
    "for i in range(NE):\n",
    "    ke_values = ke_values.at[i,:,:].set(SK)\n",
    "\n",
    "\n"
   ]
  },
  {
   "cell_type": "code",
   "execution_count": 387,
   "metadata": {},
   "outputs": [
    {
     "name": "stdout",
     "output_type": "stream",
     "text": [
      "[[ 1. -1.  0.  0.]\n",
      " [-1.  2. -1.  0.]\n",
      " [ 0. -1.  2. -1.]\n",
      " [ 0.  0. -1.  1.]]\n",
      "[[ 1. -1.  0.  0.]\n",
      " [-1.  2. -1.  0.]\n",
      " [ 0. -1.  2. -1.]\n",
      " [ 0.  0. -1.  1.]]\n"
     ]
    }
   ],
   "source": [
    "import jax.numpy as jnp\n",
    "from jax.ops import segment_sum\n",
    "from jax import jit\n",
    "from functools import partial\n",
    "\n",
    "\n",
    "@jit\n",
    "def create_COO(elements, ke_values):\n",
    "    dof_mat =  np.tile(elements[:, None, :], (1, 2, 1))\n",
    "    dof_rows = dof_mat.reshape(NE, -1, order='C')\n",
    "    dof_cols = dof_mat.reshape(NE, -1, order='F')\n",
    "\n",
    "    rows = dof_rows.reshape(-1)\n",
    "    cols = dof_cols.reshape(-1)\n",
    "    ke_values_flatten = ke_values.reshape(-1)\n",
    "\n",
    "    return sparse.COO((ke_values_flatten, rows, cols), shape=(NE+1, NE+1))\n",
    "\n",
    "@partial(jax.jit, static_argnames=['n_removes', 'n_init_rows'])\n",
    "def to_csr(COO, n_removes, n_init_rows):\n",
    "        # Crear una clave única para cada par de coordenadas (row, col)\n",
    "    row  = COO.row\n",
    "    col  = COO.col\n",
    "    data = COO.data\n",
    "    max_col = col.max() + 1  # Asegurarse de que no haya colisiones\n",
    "    keys    = row * max_col + col\n",
    "\n",
    "    # Determinar los índices únicos y asignar un índice inverso\n",
    "    sort_indices = jnp.argsort(keys)\n",
    "    sorted_keys  = keys[sort_indices]\n",
    "    sorted_data  = data[sort_indices]\n",
    "    sorted_row   = row[sort_indices]\n",
    "    sorted_col   = col[sort_indices]\n",
    "\n",
    "    # Identificar posiciones únicas manualmente sin usar `jnp.where`\n",
    "    unique_mask = jnp.diff(jnp.concatenate([jnp.array([-1]), sorted_keys])) != 0\n",
    "    unique_indices = jnp.nonzero(unique_mask, size = sorted_keys.shape[0]-n_removes)[0]\n",
    "\n",
    "    # Crear un índice inverso que mapea cada clave al índice único correspondiente\n",
    "    inverse_indices = jnp.cumsum(unique_mask) - 1\n",
    "\n",
    "    # Sumar los valores de `data` para los índices únicos\n",
    "    data_summed = segment_sum(sorted_data, inverse_indices, num_segments=len(unique_indices))\n",
    "\n",
    "    # Extraer coordenadas únicas\n",
    "    final_row = sorted_row[unique_indices]\n",
    "    final_col = sorted_col[unique_indices]\n",
    "\n",
    "    # indices_filas = jnp.where(jnp.concatenate([jnp.array([True]), final_row[1:] != final_row[:-1]]))[0]\n",
    "    # indices_filas = jnp.append(indices_filas, COO.size)\n",
    "    change_mask = jnp.concatenate([jnp.array([True]), final_row[1:] != final_row[:-1]])\n",
    "\n",
    "    # Obtener los índices explícitos donde ocurre un cambio\n",
    "    indices_filas = jnp.nonzero(change_mask, size=final_row.size, fill_value=0)[0]\n",
    "\n",
    "    # Agregar el tamaño total como un índice adicional\n",
    "    indices_filas = jnp.append(indices_filas[0:n_init_rows], COO.size)\n",
    "\n",
    "    return sparse.CSR((data_summed, final_col, indices_filas), shape=COO.shape)\n",
    "    # return data_summed, final_row, final_col, indices_filas\n",
    "\n",
    "\n",
    "A_COO = create_COO(elements, ke_values)\n",
    "A_CSR = to_csr(A_COO, 2, 4)\n",
    "print(A_COO.todense())\n",
    "print(A_CSR.todense())\n"
   ]
  },
  {
   "cell_type": "code",
   "execution_count": 379,
   "metadata": {},
   "outputs": [
    {
     "data": {
      "text/plain": [
       "Array([ 0,  2,  5,  8, 16], dtype=int32)"
      ]
     },
     "execution_count": 379,
     "metadata": {},
     "output_type": "execute_result"
    }
   ],
   "source": [
    "A_indptr"
   ]
  },
  {
   "cell_type": "code",
   "execution_count": 380,
   "metadata": {},
   "outputs": [
    {
     "data": {
      "text/plain": [
       "Array([[ 1., -1.,  0.,  0.],\n",
       "       [-1.,  2., -1.,  0.],\n",
       "       [ 0., -1.,  2., -1.],\n",
       "       [ 0.,  0., -1.,  1.]], dtype=float32)"
      ]
     },
     "execution_count": 380,
     "metadata": {},
     "output_type": "execute_result"
    }
   ],
   "source": [
    "sparse.CSR((A_data, A_col, A_indptr), shape=A_COO.shape).todense()"
   ]
  },
  {
   "cell_type": "code",
   "execution_count": 360,
   "metadata": {},
   "outputs": [
    {
     "ename": "AssertionError",
     "evalue": "",
     "output_type": "error",
     "traceback": [
      "\u001b[1;31m---------------------------------------------------------------------------\u001b[0m",
      "\u001b[1;31mAssertionError\u001b[0m                            Traceback (most recent call last)",
      "Cell \u001b[1;32mIn[360], line 17\u001b[0m\n\u001b[0;32m     13\u001b[0m     indices_filas \u001b[38;5;241m=\u001b[39m np\u001b[38;5;241m.\u001b[39mappend(indices_filas, \u001b[38;5;28mlen\u001b[39m(data_ordenado))\n\u001b[0;32m     15\u001b[0m     \u001b[38;5;28;01mreturn\u001b[39;00m sparse\u001b[38;5;241m.\u001b[39mCSR((data_ordenado, col_ordenado, indices_filas), shape\u001b[38;5;241m=\u001b[39mCOO\u001b[38;5;241m.\u001b[39mshape)\n\u001b[1;32m---> 17\u001b[0m \u001b[43mto_csr\u001b[49m\u001b[43m(\u001b[49m\u001b[43mCOO_no_repetidos\u001b[49m\u001b[43m(\u001b[49m\u001b[43mA_COO\u001b[49m\u001b[43m,\u001b[49m\u001b[43m \u001b[49m\u001b[38;5;241;43m2\u001b[39;49m\u001b[43m)\u001b[49m\u001b[43m)\u001b[49m\u001b[38;5;241;43m.\u001b[39;49m\u001b[43mtodense\u001b[49m\u001b[43m(\u001b[49m\u001b[43m)\u001b[49m\n",
      "File \u001b[1;32mc:\\Users\\itapi\\miniconda3\\envs\\course\\Lib\\site-packages\\jax\\experimental\\sparse\\csr.py:109\u001b[0m, in \u001b[0;36mCSR.todense\u001b[1;34m(self)\u001b[0m\n\u001b[0;32m    108\u001b[0m \u001b[38;5;28;01mdef\u001b[39;00m \u001b[38;5;21mtodense\u001b[39m(\u001b[38;5;28mself\u001b[39m):\n\u001b[1;32m--> 109\u001b[0m   \u001b[38;5;28;01mreturn\u001b[39;00m \u001b[43mcsr_todense\u001b[49m\u001b[43m(\u001b[49m\u001b[38;5;28;43mself\u001b[39;49m\u001b[43m)\u001b[49m\n",
      "File \u001b[1;32mc:\\Users\\itapi\\miniconda3\\envs\\course\\Lib\\site-packages\\jax\\experimental\\sparse\\csr.py:222\u001b[0m, in \u001b[0;36mcsr_todense\u001b[1;34m(mat)\u001b[0m\n\u001b[0;32m    214\u001b[0m \u001b[38;5;28;01mdef\u001b[39;00m \u001b[38;5;21mcsr_todense\u001b[39m(mat: CSR) \u001b[38;5;241m-\u001b[39m\u001b[38;5;241m>\u001b[39m Array:\n\u001b[0;32m    215\u001b[0m \u001b[38;5;250m  \u001b[39m\u001b[38;5;124;03m\"\"\"Convert a CSR-format sparse matrix to a dense matrix.\u001b[39;00m\n\u001b[0;32m    216\u001b[0m \n\u001b[0;32m    217\u001b[0m \u001b[38;5;124;03m  Args:\u001b[39;00m\n\u001b[1;32m   (...)\u001b[0m\n\u001b[0;32m    220\u001b[0m \u001b[38;5;124;03m    mat_dense: dense version of ``mat``\u001b[39;00m\n\u001b[0;32m    221\u001b[0m \u001b[38;5;124;03m  \"\"\"\u001b[39;00m\n\u001b[1;32m--> 222\u001b[0m   \u001b[38;5;28;01mreturn\u001b[39;00m \u001b[43m_csr_todense\u001b[49m\u001b[43m(\u001b[49m\u001b[43mmat\u001b[49m\u001b[38;5;241;43m.\u001b[39;49m\u001b[43mdata\u001b[49m\u001b[43m,\u001b[49m\u001b[43m \u001b[49m\u001b[43mmat\u001b[49m\u001b[38;5;241;43m.\u001b[39;49m\u001b[43mindices\u001b[49m\u001b[43m,\u001b[49m\u001b[43m \u001b[49m\u001b[43mmat\u001b[49m\u001b[38;5;241;43m.\u001b[39;49m\u001b[43mindptr\u001b[49m\u001b[43m,\u001b[49m\u001b[43m \u001b[49m\u001b[43mshape\u001b[49m\u001b[38;5;241;43m=\u001b[39;49m\u001b[43mmat\u001b[49m\u001b[38;5;241;43m.\u001b[39;49m\u001b[43mshape\u001b[49m\u001b[43m)\u001b[49m\n",
      "File \u001b[1;32mc:\\Users\\itapi\\miniconda3\\envs\\course\\Lib\\site-packages\\jax\\experimental\\sparse\\csr.py:236\u001b[0m, in \u001b[0;36m_csr_todense\u001b[1;34m(data, indices, indptr, shape)\u001b[0m\n\u001b[0;32m    224\u001b[0m \u001b[38;5;28;01mdef\u001b[39;00m \u001b[38;5;21m_csr_todense\u001b[39m(data: Array, indices: Array, indptr: Array, \u001b[38;5;241m*\u001b[39m, shape: Shape) \u001b[38;5;241m-\u001b[39m\u001b[38;5;241m>\u001b[39m Array:\n\u001b[0;32m    225\u001b[0m \u001b[38;5;250m  \u001b[39m\u001b[38;5;124;03m\"\"\"Convert CSR-format sparse matrix to a dense matrix.\u001b[39;00m\n\u001b[0;32m    226\u001b[0m \n\u001b[0;32m    227\u001b[0m \u001b[38;5;124;03m  Args:\u001b[39;00m\n\u001b[1;32m   (...)\u001b[0m\n\u001b[0;32m    234\u001b[0m \u001b[38;5;124;03m    mat : array with specified shape and dtype matching ``data``\u001b[39;00m\n\u001b[0;32m    235\u001b[0m \u001b[38;5;124;03m  \"\"\"\u001b[39;00m\n\u001b[1;32m--> 236\u001b[0m   \u001b[38;5;28;01mreturn\u001b[39;00m \u001b[43mcsr_todense_p\u001b[49m\u001b[38;5;241;43m.\u001b[39;49m\u001b[43mbind\u001b[49m\u001b[43m(\u001b[49m\u001b[43mdata\u001b[49m\u001b[43m,\u001b[49m\u001b[43m \u001b[49m\u001b[43mindices\u001b[49m\u001b[43m,\u001b[49m\u001b[43m \u001b[49m\u001b[43mindptr\u001b[49m\u001b[43m,\u001b[49m\u001b[43m \u001b[49m\u001b[43mshape\u001b[49m\u001b[38;5;241;43m=\u001b[39;49m\u001b[43mshape\u001b[49m\u001b[43m)\u001b[49m\n",
      "File \u001b[1;32mc:\\Users\\itapi\\miniconda3\\envs\\course\\Lib\\site-packages\\jax\\_src\\core.py:438\u001b[0m, in \u001b[0;36mPrimitive.bind\u001b[1;34m(self, *args, **params)\u001b[0m\n\u001b[0;32m    435\u001b[0m \u001b[38;5;28;01mdef\u001b[39;00m \u001b[38;5;21mbind\u001b[39m(\u001b[38;5;28mself\u001b[39m, \u001b[38;5;241m*\u001b[39margs, \u001b[38;5;241m*\u001b[39m\u001b[38;5;241m*\u001b[39mparams):\n\u001b[0;32m    436\u001b[0m   \u001b[38;5;28;01massert\u001b[39;00m (\u001b[38;5;129;01mnot\u001b[39;00m config\u001b[38;5;241m.\u001b[39menable_checks\u001b[38;5;241m.\u001b[39mvalue \u001b[38;5;129;01mor\u001b[39;00m\n\u001b[0;32m    437\u001b[0m           \u001b[38;5;28mall\u001b[39m(\u001b[38;5;28misinstance\u001b[39m(arg, Tracer) \u001b[38;5;129;01mor\u001b[39;00m valid_jaxtype(arg) \u001b[38;5;28;01mfor\u001b[39;00m arg \u001b[38;5;129;01min\u001b[39;00m args)), args\n\u001b[1;32m--> 438\u001b[0m   \u001b[38;5;28;01mreturn\u001b[39;00m \u001b[38;5;28;43mself\u001b[39;49m\u001b[38;5;241;43m.\u001b[39;49m\u001b[43mbind_with_trace\u001b[49m\u001b[43m(\u001b[49m\u001b[43mfind_top_trace\u001b[49m\u001b[43m(\u001b[49m\u001b[43margs\u001b[49m\u001b[43m)\u001b[49m\u001b[43m,\u001b[49m\u001b[43m \u001b[49m\u001b[43margs\u001b[49m\u001b[43m,\u001b[49m\u001b[43m \u001b[49m\u001b[43mparams\u001b[49m\u001b[43m)\u001b[49m\n",
      "File \u001b[1;32mc:\\Users\\itapi\\miniconda3\\envs\\course\\Lib\\site-packages\\jax\\_src\\core.py:442\u001b[0m, in \u001b[0;36mPrimitive.bind_with_trace\u001b[1;34m(self, trace, args, params)\u001b[0m\n\u001b[0;32m    440\u001b[0m \u001b[38;5;28;01mdef\u001b[39;00m \u001b[38;5;21mbind_with_trace\u001b[39m(\u001b[38;5;28mself\u001b[39m, trace, args, params):\n\u001b[0;32m    441\u001b[0m   \u001b[38;5;28;01mwith\u001b[39;00m pop_level(trace\u001b[38;5;241m.\u001b[39mlevel):\n\u001b[1;32m--> 442\u001b[0m     out \u001b[38;5;241m=\u001b[39m \u001b[43mtrace\u001b[49m\u001b[38;5;241;43m.\u001b[39;49m\u001b[43mprocess_primitive\u001b[49m\u001b[43m(\u001b[49m\u001b[38;5;28;43mself\u001b[39;49m\u001b[43m,\u001b[49m\u001b[43m \u001b[49m\u001b[38;5;28;43mmap\u001b[39;49m\u001b[43m(\u001b[49m\u001b[43mtrace\u001b[49m\u001b[38;5;241;43m.\u001b[39;49m\u001b[43mfull_raise\u001b[49m\u001b[43m,\u001b[49m\u001b[43m \u001b[49m\u001b[43margs\u001b[49m\u001b[43m)\u001b[49m\u001b[43m,\u001b[49m\u001b[43m \u001b[49m\u001b[43mparams\u001b[49m\u001b[43m)\u001b[49m\n\u001b[0;32m    443\u001b[0m   \u001b[38;5;28;01mreturn\u001b[39;00m \u001b[38;5;28mmap\u001b[39m(full_lower, out) \u001b[38;5;28;01mif\u001b[39;00m \u001b[38;5;28mself\u001b[39m\u001b[38;5;241m.\u001b[39mmultiple_results \u001b[38;5;28;01melse\u001b[39;00m full_lower(out)\n",
      "File \u001b[1;32mc:\\Users\\itapi\\miniconda3\\envs\\course\\Lib\\site-packages\\jax\\_src\\core.py:955\u001b[0m, in \u001b[0;36mEvalTrace.process_primitive\u001b[1;34m(self, primitive, tracers, params)\u001b[0m\n\u001b[0;32m    953\u001b[0m   \u001b[38;5;28;01mreturn\u001b[39;00m call_impl_with_key_reuse_checks(primitive, primitive\u001b[38;5;241m.\u001b[39mimpl, \u001b[38;5;241m*\u001b[39mtracers, \u001b[38;5;241m*\u001b[39m\u001b[38;5;241m*\u001b[39mparams)\n\u001b[0;32m    954\u001b[0m \u001b[38;5;28;01melse\u001b[39;00m:\n\u001b[1;32m--> 955\u001b[0m   \u001b[38;5;28;01mreturn\u001b[39;00m \u001b[43mprimitive\u001b[49m\u001b[38;5;241;43m.\u001b[39;49m\u001b[43mimpl\u001b[49m\u001b[43m(\u001b[49m\u001b[38;5;241;43m*\u001b[39;49m\u001b[43mtracers\u001b[49m\u001b[43m,\u001b[49m\u001b[43m \u001b[49m\u001b[38;5;241;43m*\u001b[39;49m\u001b[38;5;241;43m*\u001b[39;49m\u001b[43mparams\u001b[49m\u001b[43m)\u001b[49m\n",
      "File \u001b[1;32mc:\\Users\\itapi\\miniconda3\\envs\\course\\Lib\\site-packages\\jax\\_src\\dispatch.py:91\u001b[0m, in \u001b[0;36mapply_primitive\u001b[1;34m(prim, *args, **params)\u001b[0m\n\u001b[0;32m     89\u001b[0m prev \u001b[38;5;241m=\u001b[39m lib\u001b[38;5;241m.\u001b[39mjax_jit\u001b[38;5;241m.\u001b[39mswap_thread_local_state_disable_jit(\u001b[38;5;28;01mFalse\u001b[39;00m)\n\u001b[0;32m     90\u001b[0m \u001b[38;5;28;01mtry\u001b[39;00m:\n\u001b[1;32m---> 91\u001b[0m   outs \u001b[38;5;241m=\u001b[39m \u001b[43mfun\u001b[49m\u001b[43m(\u001b[49m\u001b[38;5;241;43m*\u001b[39;49m\u001b[43margs\u001b[49m\u001b[43m)\u001b[49m\n\u001b[0;32m     92\u001b[0m \u001b[38;5;28;01mfinally\u001b[39;00m:\n\u001b[0;32m     93\u001b[0m   lib\u001b[38;5;241m.\u001b[39mjax_jit\u001b[38;5;241m.\u001b[39mswap_thread_local_state_disable_jit(prev)\n",
      "    \u001b[1;31m[... skipping hidden 17 frame]\u001b[0m\n",
      "File \u001b[1;32mc:\\Users\\itapi\\miniconda3\\envs\\course\\Lib\\site-packages\\jax\\experimental\\sparse\\csr.py:244\u001b[0m, in \u001b[0;36m_csr_todense_abstract_eval\u001b[1;34m(data, indices, indptr, shape)\u001b[0m\n\u001b[0;32m    241\u001b[0m \u001b[38;5;129m@csr_todense_p\u001b[39m\u001b[38;5;241m.\u001b[39mdef_abstract_eval\n\u001b[0;32m    242\u001b[0m \u001b[38;5;28;01mdef\u001b[39;00m \u001b[38;5;21m_csr_todense_abstract_eval\u001b[39m(data, indices, indptr, \u001b[38;5;241m*\u001b[39m, shape):\n\u001b[0;32m    243\u001b[0m   \u001b[38;5;28;01massert\u001b[39;00m data\u001b[38;5;241m.\u001b[39mndim \u001b[38;5;241m==\u001b[39m indices\u001b[38;5;241m.\u001b[39mndim \u001b[38;5;241m==\u001b[39m indptr\u001b[38;5;241m.\u001b[39mndim \u001b[38;5;241m==\u001b[39m \u001b[38;5;241m1\u001b[39m\n\u001b[1;32m--> 244\u001b[0m   \u001b[38;5;28;01massert\u001b[39;00m indices\u001b[38;5;241m.\u001b[39mdtype \u001b[38;5;241m==\u001b[39m indptr\u001b[38;5;241m.\u001b[39mdtype\n\u001b[0;32m    245\u001b[0m   \u001b[38;5;28;01massert\u001b[39;00m data\u001b[38;5;241m.\u001b[39mshape \u001b[38;5;241m==\u001b[39m indices\u001b[38;5;241m.\u001b[39mshape\n\u001b[0;32m    246\u001b[0m   \u001b[38;5;28;01massert\u001b[39;00m indptr\u001b[38;5;241m.\u001b[39mshape[\u001b[38;5;241m0\u001b[39m] \u001b[38;5;241m==\u001b[39m shape[\u001b[38;5;241m0\u001b[39m] \u001b[38;5;241m+\u001b[39m \u001b[38;5;241m1\u001b[39m\n",
      "\u001b[1;31mAssertionError\u001b[0m: "
     ]
    }
   ],
   "source": [
    "def to_csr(COO):\n",
    "    # Crear una lista de tuplas (fila, columna, valor)\n",
    "    tuplas = list(zip(COO.row, COO.col, COO.data))\n",
    "\n",
    "    # Ordenar las tuplas por fila\n",
    "    tuplas_ordenadas = np.array(sorted(tuplas, key=lambda x: x[0]))  # Asegúrate de que tuplas_ordenadas sea un array de jax.numpy\n",
    "\n",
    "    data_ordenado = tuplas_ordenadas[:, 2]\n",
    "    col_ordenado  = tuplas_ordenadas[:, 1]\n",
    "\n",
    "    # Para obtener indices_filas sin usar un bucle for\n",
    "    indices_filas = np.where(np.concatenate([np.array([True]), tuplas_ordenadas[1:, 0] != tuplas_ordenadas[:-1, 0]]))[0]\n",
    "    indices_filas = np.append(indices_filas, len(data_ordenado))\n",
    "\n",
    "    return sparse.CSR((data_ordenado, col_ordenado, indices_filas), shape=COO.shape)\n",
    "\n",
    "to_csr(COO_no_repetidos(A_COO, 2)).todense()"
   ]
  },
  {
   "cell_type": "code",
   "execution_count": 349,
   "metadata": {},
   "outputs": [
    {
     "ename": "ConcretizationTypeError",
     "evalue": "Abstract tracer value encountered where concrete value is expected: traced array with shape int32[]\nThe size argument of jnp.nonzero must be statically specified to use jnp.nonzero within JAX transformations.\nThe error occurred while tracing the function to_csr at C:\\Users\\itapi\\AppData\\Local\\Temp\\ipykernel_27880\\437891706.py:6 for jit. This value became a tracer due to JAX operations on these lines:\n\n  operation a\u001b[35m:i32[]\u001b[39m = convert_element_type[new_dtype=int32 weak_type=False] b\n    from line C:\\Users\\itapi\\AppData\\Local\\Temp\\ipykernel_27880\\437891706.py:12:14 (to_csr)\n\n  operation a\u001b[35m:i32[]\u001b[39m = convert_element_type[new_dtype=int32 weak_type=False] b\n    from line C:\\Users\\itapi\\AppData\\Local\\Temp\\ipykernel_27880\\437891706.py:17:19 (to_csr)\n\n  operation a\u001b[35m:i32[12]\u001b[39m = add b c\n    from line C:\\Users\\itapi\\AppData\\Local\\Temp\\ipykernel_27880\\437891706.py:17:19 (to_csr)\n\n  operation a\u001b[35m:i32[]\u001b[39m = convert_element_type[new_dtype=int32 weak_type=False] b\n    from line C:\\Users\\itapi\\AppData\\Local\\Temp\\ipykernel_27880\\437891706.py:18:19 (to_csr)\n\n  operation a\u001b[35m:i32[]\u001b[39m = convert_element_type[new_dtype=int32 weak_type=False] b\n    from line C:\\Users\\itapi\\AppData\\Local\\Temp\\ipykernel_27880\\437891706.py:19:19 (to_csr)\n\n(Additional originating lines are not shown.)\n\nSee https://jax.readthedocs.io/en/latest/errors.html#jax.errors.ConcretizationTypeError",
     "output_type": "error",
     "traceback": [
      "\u001b[1;31m---------------------------------------------------------------------------\u001b[0m",
      "\u001b[1;31mConcretizationTypeError\u001b[0m                   Traceback (most recent call last)",
      "Cell \u001b[1;32mIn[349], line 1\u001b[0m\n\u001b[1;32m----> 1\u001b[0m \u001b[43mto_csr\u001b[49m\u001b[43m(\u001b[49m\u001b[43mA_COO\u001b[49m\u001b[43m,\u001b[49m\u001b[43m \u001b[49m\u001b[38;5;241;43m2\u001b[39;49m\u001b[43m)\u001b[49m\u001b[38;5;241m.\u001b[39mtodense()\n",
      "    \u001b[1;31m[... skipping hidden 11 frame]\u001b[0m\n",
      "Cell \u001b[1;32mIn[347], line 35\u001b[0m, in \u001b[0;36mto_csr\u001b[1;34m(COO, n_removes)\u001b[0m\n\u001b[0;32m     33\u001b[0m final_row \u001b[38;5;241m=\u001b[39m sorted_row[unique_indices]\n\u001b[0;32m     34\u001b[0m final_col \u001b[38;5;241m=\u001b[39m sorted_col[unique_indices]\n\u001b[1;32m---> 35\u001b[0m indices_filas \u001b[38;5;241m=\u001b[39m \u001b[43mnp\u001b[49m\u001b[38;5;241;43m.\u001b[39;49m\u001b[43mwhere\u001b[49m\u001b[43m(\u001b[49m\u001b[43mnp\u001b[49m\u001b[38;5;241;43m.\u001b[39;49m\u001b[43mconcatenate\u001b[49m\u001b[43m(\u001b[49m\u001b[43m[\u001b[49m\u001b[43mnp\u001b[49m\u001b[38;5;241;43m.\u001b[39;49m\u001b[43marray\u001b[49m\u001b[43m(\u001b[49m\u001b[43m[\u001b[49m\u001b[38;5;28;43;01mTrue\u001b[39;49;00m\u001b[43m]\u001b[49m\u001b[43m)\u001b[49m\u001b[43m,\u001b[49m\u001b[43m \u001b[49m\u001b[43mfinal_row\u001b[49m\u001b[43m[\u001b[49m\u001b[38;5;241;43m1\u001b[39;49m\u001b[43m:\u001b[49m\u001b[43m]\u001b[49m\u001b[43m \u001b[49m\u001b[38;5;241;43m!=\u001b[39;49m\u001b[43m \u001b[49m\u001b[43mfinal_row\u001b[49m\u001b[43m[\u001b[49m\u001b[43m:\u001b[49m\u001b[38;5;241;43m-\u001b[39;49m\u001b[38;5;241;43m1\u001b[39;49m\u001b[43m]\u001b[49m\u001b[43m]\u001b[49m\u001b[43m)\u001b[49m\u001b[43m)\u001b[49m[\u001b[38;5;241m0\u001b[39m]\n\u001b[0;32m     36\u001b[0m indices_filas \u001b[38;5;241m=\u001b[39m np\u001b[38;5;241m.\u001b[39mappend(indices_filas, COO\u001b[38;5;241m.\u001b[39msize)\n\u001b[0;32m     39\u001b[0m \u001b[38;5;28;01mreturn\u001b[39;00m sparse\u001b[38;5;241m.\u001b[39mCSR((data_summed, final_col, indices_filas), shape\u001b[38;5;241m=\u001b[39mCOO\u001b[38;5;241m.\u001b[39mshape)\n",
      "File \u001b[1;32mc:\\Users\\itapi\\miniconda3\\envs\\course\\Lib\\site-packages\\jax\\_src\\numpy\\lax_numpy.py:2924\u001b[0m, in \u001b[0;36mwhere\u001b[1;34m(condition, x, y, size, fill_value)\u001b[0m\n\u001b[0;32m   2922\u001b[0m \u001b[38;5;28;01mif\u001b[39;00m x \u001b[38;5;129;01mis\u001b[39;00m \u001b[38;5;28;01mNone\u001b[39;00m \u001b[38;5;129;01mand\u001b[39;00m y \u001b[38;5;129;01mis\u001b[39;00m \u001b[38;5;28;01mNone\u001b[39;00m:\n\u001b[0;32m   2923\u001b[0m   util\u001b[38;5;241m.\u001b[39mcheck_arraylike(\u001b[38;5;124m\"\u001b[39m\u001b[38;5;124mwhere\u001b[39m\u001b[38;5;124m\"\u001b[39m, condition)\n\u001b[1;32m-> 2924\u001b[0m   \u001b[38;5;28;01mreturn\u001b[39;00m \u001b[43mnonzero\u001b[49m\u001b[43m(\u001b[49m\u001b[43mcondition\u001b[49m\u001b[43m,\u001b[49m\u001b[43m \u001b[49m\u001b[43msize\u001b[49m\u001b[38;5;241;43m=\u001b[39;49m\u001b[43msize\u001b[49m\u001b[43m,\u001b[49m\u001b[43m \u001b[49m\u001b[43mfill_value\u001b[49m\u001b[38;5;241;43m=\u001b[39;49m\u001b[43mfill_value\u001b[49m\u001b[43m)\u001b[49m\n\u001b[0;32m   2925\u001b[0m \u001b[38;5;28;01melse\u001b[39;00m:\n\u001b[0;32m   2926\u001b[0m   util\u001b[38;5;241m.\u001b[39mcheck_arraylike(\u001b[38;5;124m\"\u001b[39m\u001b[38;5;124mwhere\u001b[39m\u001b[38;5;124m\"\u001b[39m, condition, x, y)\n",
      "File \u001b[1;32mc:\\Users\\itapi\\miniconda3\\envs\\course\\Lib\\site-packages\\jax\\_src\\numpy\\lax_numpy.py:3840\u001b[0m, in \u001b[0;36mnonzero\u001b[1;34m(***failed resolving arguments***)\u001b[0m\n\u001b[0;32m   3838\u001b[0m mask \u001b[38;5;241m=\u001b[39m arr \u001b[38;5;28;01mif\u001b[39;00m arr\u001b[38;5;241m.\u001b[39mdtype \u001b[38;5;241m==\u001b[39m \u001b[38;5;28mbool\u001b[39m \u001b[38;5;28;01melse\u001b[39;00m (arr \u001b[38;5;241m!=\u001b[39m \u001b[38;5;241m0\u001b[39m)\n\u001b[0;32m   3839\u001b[0m calculated_size_ \u001b[38;5;241m=\u001b[39m mask\u001b[38;5;241m.\u001b[39msum() \u001b[38;5;28;01mif\u001b[39;00m size \u001b[38;5;129;01mis\u001b[39;00m \u001b[38;5;28;01mNone\u001b[39;00m \u001b[38;5;28;01melse\u001b[39;00m size\n\u001b[1;32m-> 3840\u001b[0m calculated_size: \u001b[38;5;28mint\u001b[39m \u001b[38;5;241m=\u001b[39m \u001b[43mcore\u001b[49m\u001b[38;5;241;43m.\u001b[39;49m\u001b[43mconcrete_dim_or_error\u001b[49m\u001b[43m(\u001b[49m\u001b[43mcalculated_size_\u001b[49m\u001b[43m,\u001b[49m\n\u001b[0;32m   3841\u001b[0m \u001b[43m  \u001b[49m\u001b[38;5;124;43m\"\u001b[39;49m\u001b[38;5;124;43mThe size argument of jnp.nonzero must be statically specified \u001b[39;49m\u001b[38;5;124;43m\"\u001b[39;49m\n\u001b[0;32m   3842\u001b[0m \u001b[43m  \u001b[49m\u001b[38;5;124;43m\"\u001b[39;49m\u001b[38;5;124;43mto use jnp.nonzero within JAX transformations.\u001b[39;49m\u001b[38;5;124;43m\"\u001b[39;49m\u001b[43m)\u001b[49m\n\u001b[0;32m   3843\u001b[0m \u001b[38;5;28;01mif\u001b[39;00m arr\u001b[38;5;241m.\u001b[39msize \u001b[38;5;241m==\u001b[39m \u001b[38;5;241m0\u001b[39m \u001b[38;5;129;01mor\u001b[39;00m calculated_size \u001b[38;5;241m==\u001b[39m \u001b[38;5;241m0\u001b[39m:\n\u001b[0;32m   3844\u001b[0m   \u001b[38;5;28;01mreturn\u001b[39;00m \u001b[38;5;28mtuple\u001b[39m(zeros(calculated_size, \u001b[38;5;28mint\u001b[39m) \u001b[38;5;28;01mfor\u001b[39;00m dim \u001b[38;5;129;01min\u001b[39;00m arr\u001b[38;5;241m.\u001b[39mshape)\n",
      "    \u001b[1;31m[... skipping hidden 1 frame]\u001b[0m\n",
      "File \u001b[1;32mc:\\Users\\itapi\\miniconda3\\envs\\course\\Lib\\site-packages\\jax\\_src\\core.py:1571\u001b[0m, in \u001b[0;36mconcrete_or_error\u001b[1;34m(force, val, context)\u001b[0m\n\u001b[0;32m   1569\u001b[0m     \u001b[38;5;28;01mreturn\u001b[39;00m force(val\u001b[38;5;241m.\u001b[39maval\u001b[38;5;241m.\u001b[39mval)\n\u001b[0;32m   1570\u001b[0m   \u001b[38;5;28;01melse\u001b[39;00m:\n\u001b[1;32m-> 1571\u001b[0m     \u001b[38;5;28;01mraise\u001b[39;00m ConcretizationTypeError(val, context)\n\u001b[0;32m   1572\u001b[0m \u001b[38;5;28;01melse\u001b[39;00m:\n\u001b[0;32m   1573\u001b[0m   \u001b[38;5;28;01mreturn\u001b[39;00m force(val)\n",
      "\u001b[1;31mConcretizationTypeError\u001b[0m: Abstract tracer value encountered where concrete value is expected: traced array with shape int32[]\nThe size argument of jnp.nonzero must be statically specified to use jnp.nonzero within JAX transformations.\nThe error occurred while tracing the function to_csr at C:\\Users\\itapi\\AppData\\Local\\Temp\\ipykernel_27880\\437891706.py:6 for jit. This value became a tracer due to JAX operations on these lines:\n\n  operation a\u001b[35m:i32[]\u001b[39m = convert_element_type[new_dtype=int32 weak_type=False] b\n    from line C:\\Users\\itapi\\AppData\\Local\\Temp\\ipykernel_27880\\437891706.py:12:14 (to_csr)\n\n  operation a\u001b[35m:i32[]\u001b[39m = convert_element_type[new_dtype=int32 weak_type=False] b\n    from line C:\\Users\\itapi\\AppData\\Local\\Temp\\ipykernel_27880\\437891706.py:17:19 (to_csr)\n\n  operation a\u001b[35m:i32[12]\u001b[39m = add b c\n    from line C:\\Users\\itapi\\AppData\\Local\\Temp\\ipykernel_27880\\437891706.py:17:19 (to_csr)\n\n  operation a\u001b[35m:i32[]\u001b[39m = convert_element_type[new_dtype=int32 weak_type=False] b\n    from line C:\\Users\\itapi\\AppData\\Local\\Temp\\ipykernel_27880\\437891706.py:18:19 (to_csr)\n\n  operation a\u001b[35m:i32[]\u001b[39m = convert_element_type[new_dtype=int32 weak_type=False] b\n    from line C:\\Users\\itapi\\AppData\\Local\\Temp\\ipykernel_27880\\437891706.py:19:19 (to_csr)\n\n(Additional originating lines are not shown.)\n\nSee https://jax.readthedocs.io/en/latest/errors.html#jax.errors.ConcretizationTypeError"
     ]
    }
   ],
   "source": [
    "to_csr(A_COO, 2).todense()"
   ]
  },
  {
   "cell_type": "code",
   "execution_count": 296,
   "metadata": {},
   "outputs": [
    {
     "name": "stdout",
     "output_type": "stream",
     "text": [
      "A_row = [0 1 0 1 1 2 1 2 2 3 2 3]\n",
      "A_col = [0 0 1 1 1 1 2 2 2 2 3 3]\n",
      "A_data = [ 1. -1. -1.  1.  1. -1. -1.  1.  1. -1. -1.  1.]\n",
      "[[ 1. -1.  0.  0.]\n",
      " [-1.  2. -1.  0.]\n",
      " [ 0. -1.  2. -1.]\n",
      " [ 0.  0. -1.  1.]]\n"
     ]
    }
   ],
   "source": [
    "print('A_row =',A_COO.row)\n",
    "print('A_col =',A_COO.col)\n",
    "print('A_data =',A_COO.data)\n",
    "print(A_COO.todense())"
   ]
  },
  {
   "cell_type": "code",
   "execution_count": 297,
   "metadata": {},
   "outputs": [
    {
     "name": "stdout",
     "output_type": "stream",
     "text": [
      "A_rows = [0 0 1 1 1 2 2 2 3 3]\n",
      "A_col =  [0 1 0 1 2 1 2 3 2 3]\n",
      "A_data = [ 1. -1. -1.  2. -1. -1.  2. -1. -1.  1.]\n"
     ]
    }
   ],
   "source": [
    "A_rows, A_cols, A_data = remove_same_pos(A_COO.row, A_COO.col, A_COO.data, 2)\n",
    "print('A_rows =', A_rows)\n",
    "print('A_col = ',A_cols)\n",
    "print('A_data =', A_data)\n",
    "\n"
   ]
  },
  {
   "cell_type": "code",
   "execution_count": 303,
   "metadata": {},
   "outputs": [
    {
     "ename": "AssertionError",
     "evalue": "",
     "output_type": "error",
     "traceback": [
      "\u001b[1;31m---------------------------------------------------------------------------\u001b[0m",
      "\u001b[1;31mAssertionError\u001b[0m                            Traceback (most recent call last)",
      "Cell \u001b[1;32mIn[303], line 2\u001b[0m\n\u001b[0;32m      1\u001b[0m A_CSR \u001b[38;5;241m=\u001b[39m sparse\u001b[38;5;241m.\u001b[39mCSR((A_data, A_cols, A_rows), shape\u001b[38;5;241m=\u001b[39mA_COO\u001b[38;5;241m.\u001b[39mshape)\n\u001b[1;32m----> 2\u001b[0m \u001b[43mA_CSR\u001b[49m\u001b[38;5;241;43m.\u001b[39;49m\u001b[43mtodense\u001b[49m\u001b[43m(\u001b[49m\u001b[43m)\u001b[49m\n",
      "File \u001b[1;32mc:\\Users\\itapi\\miniconda3\\envs\\course\\Lib\\site-packages\\jax\\experimental\\sparse\\csr.py:109\u001b[0m, in \u001b[0;36mCSR.todense\u001b[1;34m(self)\u001b[0m\n\u001b[0;32m    108\u001b[0m \u001b[38;5;28;01mdef\u001b[39;00m \u001b[38;5;21mtodense\u001b[39m(\u001b[38;5;28mself\u001b[39m):\n\u001b[1;32m--> 109\u001b[0m   \u001b[38;5;28;01mreturn\u001b[39;00m \u001b[43mcsr_todense\u001b[49m\u001b[43m(\u001b[49m\u001b[38;5;28;43mself\u001b[39;49m\u001b[43m)\u001b[49m\n",
      "File \u001b[1;32mc:\\Users\\itapi\\miniconda3\\envs\\course\\Lib\\site-packages\\jax\\experimental\\sparse\\csr.py:222\u001b[0m, in \u001b[0;36mcsr_todense\u001b[1;34m(mat)\u001b[0m\n\u001b[0;32m    214\u001b[0m \u001b[38;5;28;01mdef\u001b[39;00m \u001b[38;5;21mcsr_todense\u001b[39m(mat: CSR) \u001b[38;5;241m-\u001b[39m\u001b[38;5;241m>\u001b[39m Array:\n\u001b[0;32m    215\u001b[0m \u001b[38;5;250m  \u001b[39m\u001b[38;5;124;03m\"\"\"Convert a CSR-format sparse matrix to a dense matrix.\u001b[39;00m\n\u001b[0;32m    216\u001b[0m \n\u001b[0;32m    217\u001b[0m \u001b[38;5;124;03m  Args:\u001b[39;00m\n\u001b[1;32m   (...)\u001b[0m\n\u001b[0;32m    220\u001b[0m \u001b[38;5;124;03m    mat_dense: dense version of ``mat``\u001b[39;00m\n\u001b[0;32m    221\u001b[0m \u001b[38;5;124;03m  \"\"\"\u001b[39;00m\n\u001b[1;32m--> 222\u001b[0m   \u001b[38;5;28;01mreturn\u001b[39;00m \u001b[43m_csr_todense\u001b[49m\u001b[43m(\u001b[49m\u001b[43mmat\u001b[49m\u001b[38;5;241;43m.\u001b[39;49m\u001b[43mdata\u001b[49m\u001b[43m,\u001b[49m\u001b[43m \u001b[49m\u001b[43mmat\u001b[49m\u001b[38;5;241;43m.\u001b[39;49m\u001b[43mindices\u001b[49m\u001b[43m,\u001b[49m\u001b[43m \u001b[49m\u001b[43mmat\u001b[49m\u001b[38;5;241;43m.\u001b[39;49m\u001b[43mindptr\u001b[49m\u001b[43m,\u001b[49m\u001b[43m \u001b[49m\u001b[43mshape\u001b[49m\u001b[38;5;241;43m=\u001b[39;49m\u001b[43mmat\u001b[49m\u001b[38;5;241;43m.\u001b[39;49m\u001b[43mshape\u001b[49m\u001b[43m)\u001b[49m\n",
      "File \u001b[1;32mc:\\Users\\itapi\\miniconda3\\envs\\course\\Lib\\site-packages\\jax\\experimental\\sparse\\csr.py:236\u001b[0m, in \u001b[0;36m_csr_todense\u001b[1;34m(data, indices, indptr, shape)\u001b[0m\n\u001b[0;32m    224\u001b[0m \u001b[38;5;28;01mdef\u001b[39;00m \u001b[38;5;21m_csr_todense\u001b[39m(data: Array, indices: Array, indptr: Array, \u001b[38;5;241m*\u001b[39m, shape: Shape) \u001b[38;5;241m-\u001b[39m\u001b[38;5;241m>\u001b[39m Array:\n\u001b[0;32m    225\u001b[0m \u001b[38;5;250m  \u001b[39m\u001b[38;5;124;03m\"\"\"Convert CSR-format sparse matrix to a dense matrix.\u001b[39;00m\n\u001b[0;32m    226\u001b[0m \n\u001b[0;32m    227\u001b[0m \u001b[38;5;124;03m  Args:\u001b[39;00m\n\u001b[1;32m   (...)\u001b[0m\n\u001b[0;32m    234\u001b[0m \u001b[38;5;124;03m    mat : array with specified shape and dtype matching ``data``\u001b[39;00m\n\u001b[0;32m    235\u001b[0m \u001b[38;5;124;03m  \"\"\"\u001b[39;00m\n\u001b[1;32m--> 236\u001b[0m   \u001b[38;5;28;01mreturn\u001b[39;00m \u001b[43mcsr_todense_p\u001b[49m\u001b[38;5;241;43m.\u001b[39;49m\u001b[43mbind\u001b[49m\u001b[43m(\u001b[49m\u001b[43mdata\u001b[49m\u001b[43m,\u001b[49m\u001b[43m \u001b[49m\u001b[43mindices\u001b[49m\u001b[43m,\u001b[49m\u001b[43m \u001b[49m\u001b[43mindptr\u001b[49m\u001b[43m,\u001b[49m\u001b[43m \u001b[49m\u001b[43mshape\u001b[49m\u001b[38;5;241;43m=\u001b[39;49m\u001b[43mshape\u001b[49m\u001b[43m)\u001b[49m\n",
      "File \u001b[1;32mc:\\Users\\itapi\\miniconda3\\envs\\course\\Lib\\site-packages\\jax\\_src\\core.py:438\u001b[0m, in \u001b[0;36mPrimitive.bind\u001b[1;34m(self, *args, **params)\u001b[0m\n\u001b[0;32m    435\u001b[0m \u001b[38;5;28;01mdef\u001b[39;00m \u001b[38;5;21mbind\u001b[39m(\u001b[38;5;28mself\u001b[39m, \u001b[38;5;241m*\u001b[39margs, \u001b[38;5;241m*\u001b[39m\u001b[38;5;241m*\u001b[39mparams):\n\u001b[0;32m    436\u001b[0m   \u001b[38;5;28;01massert\u001b[39;00m (\u001b[38;5;129;01mnot\u001b[39;00m config\u001b[38;5;241m.\u001b[39menable_checks\u001b[38;5;241m.\u001b[39mvalue \u001b[38;5;129;01mor\u001b[39;00m\n\u001b[0;32m    437\u001b[0m           \u001b[38;5;28mall\u001b[39m(\u001b[38;5;28misinstance\u001b[39m(arg, Tracer) \u001b[38;5;129;01mor\u001b[39;00m valid_jaxtype(arg) \u001b[38;5;28;01mfor\u001b[39;00m arg \u001b[38;5;129;01min\u001b[39;00m args)), args\n\u001b[1;32m--> 438\u001b[0m   \u001b[38;5;28;01mreturn\u001b[39;00m \u001b[38;5;28;43mself\u001b[39;49m\u001b[38;5;241;43m.\u001b[39;49m\u001b[43mbind_with_trace\u001b[49m\u001b[43m(\u001b[49m\u001b[43mfind_top_trace\u001b[49m\u001b[43m(\u001b[49m\u001b[43margs\u001b[49m\u001b[43m)\u001b[49m\u001b[43m,\u001b[49m\u001b[43m \u001b[49m\u001b[43margs\u001b[49m\u001b[43m,\u001b[49m\u001b[43m \u001b[49m\u001b[43mparams\u001b[49m\u001b[43m)\u001b[49m\n",
      "File \u001b[1;32mc:\\Users\\itapi\\miniconda3\\envs\\course\\Lib\\site-packages\\jax\\_src\\core.py:442\u001b[0m, in \u001b[0;36mPrimitive.bind_with_trace\u001b[1;34m(self, trace, args, params)\u001b[0m\n\u001b[0;32m    440\u001b[0m \u001b[38;5;28;01mdef\u001b[39;00m \u001b[38;5;21mbind_with_trace\u001b[39m(\u001b[38;5;28mself\u001b[39m, trace, args, params):\n\u001b[0;32m    441\u001b[0m   \u001b[38;5;28;01mwith\u001b[39;00m pop_level(trace\u001b[38;5;241m.\u001b[39mlevel):\n\u001b[1;32m--> 442\u001b[0m     out \u001b[38;5;241m=\u001b[39m \u001b[43mtrace\u001b[49m\u001b[38;5;241;43m.\u001b[39;49m\u001b[43mprocess_primitive\u001b[49m\u001b[43m(\u001b[49m\u001b[38;5;28;43mself\u001b[39;49m\u001b[43m,\u001b[49m\u001b[43m \u001b[49m\u001b[38;5;28;43mmap\u001b[39;49m\u001b[43m(\u001b[49m\u001b[43mtrace\u001b[49m\u001b[38;5;241;43m.\u001b[39;49m\u001b[43mfull_raise\u001b[49m\u001b[43m,\u001b[49m\u001b[43m \u001b[49m\u001b[43margs\u001b[49m\u001b[43m)\u001b[49m\u001b[43m,\u001b[49m\u001b[43m \u001b[49m\u001b[43mparams\u001b[49m\u001b[43m)\u001b[49m\n\u001b[0;32m    443\u001b[0m   \u001b[38;5;28;01mreturn\u001b[39;00m \u001b[38;5;28mmap\u001b[39m(full_lower, out) \u001b[38;5;28;01mif\u001b[39;00m \u001b[38;5;28mself\u001b[39m\u001b[38;5;241m.\u001b[39mmultiple_results \u001b[38;5;28;01melse\u001b[39;00m full_lower(out)\n",
      "File \u001b[1;32mc:\\Users\\itapi\\miniconda3\\envs\\course\\Lib\\site-packages\\jax\\_src\\core.py:955\u001b[0m, in \u001b[0;36mEvalTrace.process_primitive\u001b[1;34m(self, primitive, tracers, params)\u001b[0m\n\u001b[0;32m    953\u001b[0m   \u001b[38;5;28;01mreturn\u001b[39;00m call_impl_with_key_reuse_checks(primitive, primitive\u001b[38;5;241m.\u001b[39mimpl, \u001b[38;5;241m*\u001b[39mtracers, \u001b[38;5;241m*\u001b[39m\u001b[38;5;241m*\u001b[39mparams)\n\u001b[0;32m    954\u001b[0m \u001b[38;5;28;01melse\u001b[39;00m:\n\u001b[1;32m--> 955\u001b[0m   \u001b[38;5;28;01mreturn\u001b[39;00m \u001b[43mprimitive\u001b[49m\u001b[38;5;241;43m.\u001b[39;49m\u001b[43mimpl\u001b[49m\u001b[43m(\u001b[49m\u001b[38;5;241;43m*\u001b[39;49m\u001b[43mtracers\u001b[49m\u001b[43m,\u001b[49m\u001b[43m \u001b[49m\u001b[38;5;241;43m*\u001b[39;49m\u001b[38;5;241;43m*\u001b[39;49m\u001b[43mparams\u001b[49m\u001b[43m)\u001b[49m\n",
      "File \u001b[1;32mc:\\Users\\itapi\\miniconda3\\envs\\course\\Lib\\site-packages\\jax\\_src\\dispatch.py:91\u001b[0m, in \u001b[0;36mapply_primitive\u001b[1;34m(prim, *args, **params)\u001b[0m\n\u001b[0;32m     89\u001b[0m prev \u001b[38;5;241m=\u001b[39m lib\u001b[38;5;241m.\u001b[39mjax_jit\u001b[38;5;241m.\u001b[39mswap_thread_local_state_disable_jit(\u001b[38;5;28;01mFalse\u001b[39;00m)\n\u001b[0;32m     90\u001b[0m \u001b[38;5;28;01mtry\u001b[39;00m:\n\u001b[1;32m---> 91\u001b[0m   outs \u001b[38;5;241m=\u001b[39m \u001b[43mfun\u001b[49m\u001b[43m(\u001b[49m\u001b[38;5;241;43m*\u001b[39;49m\u001b[43margs\u001b[49m\u001b[43m)\u001b[49m\n\u001b[0;32m     92\u001b[0m \u001b[38;5;28;01mfinally\u001b[39;00m:\n\u001b[0;32m     93\u001b[0m   lib\u001b[38;5;241m.\u001b[39mjax_jit\u001b[38;5;241m.\u001b[39mswap_thread_local_state_disable_jit(prev)\n",
      "    \u001b[1;31m[... skipping hidden 17 frame]\u001b[0m\n",
      "File \u001b[1;32mc:\\Users\\itapi\\miniconda3\\envs\\course\\Lib\\site-packages\\jax\\experimental\\sparse\\csr.py:246\u001b[0m, in \u001b[0;36m_csr_todense_abstract_eval\u001b[1;34m(data, indices, indptr, shape)\u001b[0m\n\u001b[0;32m    244\u001b[0m \u001b[38;5;28;01massert\u001b[39;00m indices\u001b[38;5;241m.\u001b[39mdtype \u001b[38;5;241m==\u001b[39m indptr\u001b[38;5;241m.\u001b[39mdtype\n\u001b[0;32m    245\u001b[0m \u001b[38;5;28;01massert\u001b[39;00m data\u001b[38;5;241m.\u001b[39mshape \u001b[38;5;241m==\u001b[39m indices\u001b[38;5;241m.\u001b[39mshape\n\u001b[1;32m--> 246\u001b[0m \u001b[38;5;28;01massert\u001b[39;00m indptr\u001b[38;5;241m.\u001b[39mshape[\u001b[38;5;241m0\u001b[39m] \u001b[38;5;241m==\u001b[39m shape[\u001b[38;5;241m0\u001b[39m] \u001b[38;5;241m+\u001b[39m \u001b[38;5;241m1\u001b[39m\n\u001b[0;32m    247\u001b[0m \u001b[38;5;28;01mreturn\u001b[39;00m core\u001b[38;5;241m.\u001b[39mShapedArray(shape, data\u001b[38;5;241m.\u001b[39mdtype)\n",
      "\u001b[1;31mAssertionError\u001b[0m: "
     ]
    }
   ],
   "source": [
    "# Para obtener indices_filas sin usar un bucle for\n",
    "indices_filas = np.where(np.concatenate([np.array([True]), A_rows[1:, 0] != tuplas_ordenadas[:-1, 0]]))[0]\n",
    "indices_filas = np.append(indices_filas, len(data_ordenado))\n"
   ]
  },
  {
   "cell_type": "code",
   "execution_count": 318,
   "metadata": {},
   "outputs": [
    {
     "data": {
      "text/plain": [
       "Array([ 0,  2,  5,  8, 16], dtype=int32)"
      ]
     },
     "execution_count": 318,
     "metadata": {},
     "output_type": "execute_result"
    }
   ],
   "source": [
    "indices_filas"
   ]
  },
  {
   "cell_type": "code",
   "execution_count": 320,
   "metadata": {},
   "outputs": [
    {
     "name": "stdout",
     "output_type": "stream",
     "text": [
      "[[ 1. -1.  0.  0.]\n",
      " [-1.  2. -1.  0.]\n",
      " [ 0. -1.  2. -1.]\n",
      " [ 0.  0. -1.  1.]]\n",
      "[[ 1. -1.  0.  0.]\n",
      " [-1.  2. -1.  0.]\n",
      " [ 0. -1.  2. -1.]\n",
      " [ 0.  0. -1.  1.]]\n"
     ]
    }
   ],
   "source": [
    "print(sparse.CSR((A_data, A_cols, indices_filas), shape=(4, 4)).todense())\n",
    "print(create_COO(elements, ke_values).todense())"
   ]
  },
  {
   "cell_type": "code",
   "execution_count": 307,
   "metadata": {},
   "outputs": [
    {
     "data": {
      "text/plain": [
       "Array([0., 1., 1., 1., 2., 2., 2., 3., 3.], dtype=float32)"
      ]
     },
     "execution_count": 307,
     "metadata": {},
     "output_type": "execute_result"
    }
   ],
   "source": [
    "tuplas_ordenadas[1:,0]"
   ]
  },
  {
   "cell_type": "code",
   "execution_count": 305,
   "metadata": {},
   "outputs": [],
   "source": [
    "tuplas = list(zip(A_rows, A_cols, A_data))\n",
    "\n",
    "# Ordenar las tuplas por fila\n",
    "tuplas_ordenadas = np.array(sorted(tuplas, key=lambda x: x[0]))  # Asegúrate de que tuplas_ordenadas sea un array de jax.numpy\n",
    "\n",
    "data_ordenado = tuplas_ordenadas[:, 2]\n",
    "col_ordenado  = tuplas_ordenadas[:, 1]\n",
    "\n",
    "# Para obtener indices_filas sin usar un bucle for\n",
    "indices_filas = np.where(np.concatenate([np.array([True]), tuplas_ordenadas[1:, 0] != tuplas_ordenadas[:-1, 0]]))[0]\n",
    "indices_filas = np.append(indices_filas, len(data_ordenado))\n",
    "\n",
    "A_CSR = sparse.CSR((data_ordenado, col_ordenado, indices_filas), shape=A_COO.shape)\n",
    "# A_CSR.todense()"
   ]
  },
  {
   "cell_type": "code",
   "execution_count": 261,
   "metadata": {},
   "outputs": [
    {
     "ename": "ConcretizationTypeError",
     "evalue": "Abstract tracer value encountered where concrete value is expected: traced array with shape int32[]\nThe size argument of jnp.nonzero must be statically specified to use jnp.nonzero within JAX transformations.\nThe error occurred while tracing the function remove_same_pos at C:\\Users\\itapi\\AppData\\Local\\Temp\\ipykernel_27880\\634259057.py:5 for jit. This concrete value was not available in Python because it depends on the values of the arguments row and col.\n\nSee https://jax.readthedocs.io/en/latest/errors.html#jax.errors.ConcretizationTypeError",
     "output_type": "error",
     "traceback": [
      "\u001b[1;31m---------------------------------------------------------------------------\u001b[0m",
      "\u001b[1;31mConcretizationTypeError\u001b[0m                   Traceback (most recent call last)",
      "Cell \u001b[1;32mIn[261], line 39\u001b[0m\n\u001b[0;32m     36\u001b[0m col \u001b[38;5;241m=\u001b[39m jnp\u001b[38;5;241m.\u001b[39marray([\u001b[38;5;241m1\u001b[39m, \u001b[38;5;241m2\u001b[39m, \u001b[38;5;241m1\u001b[39m, \u001b[38;5;241m1\u001b[39m, \u001b[38;5;241m0\u001b[39m, \u001b[38;5;241m0\u001b[39m, \u001b[38;5;241m5\u001b[39m])\n\u001b[0;32m     37\u001b[0m data \u001b[38;5;241m=\u001b[39m jnp\u001b[38;5;241m.\u001b[39marray([\u001b[38;5;241m10\u001b[39m, \u001b[38;5;241m20\u001b[39m, \u001b[38;5;241m10\u001b[39m, \u001b[38;5;241m30\u001b[39m, \u001b[38;5;241m40\u001b[39m, \u001b[38;5;241m50\u001b[39m, \u001b[38;5;241m60\u001b[39m], dtype\u001b[38;5;241m=\u001b[39mjnp\u001b[38;5;241m.\u001b[39mfloat32)\n\u001b[1;32m---> 39\u001b[0m final_row, final_col, data_summed \u001b[38;5;241m=\u001b[39m \u001b[43mremove_same_pos\u001b[49m\u001b[43m(\u001b[49m\u001b[43mrow\u001b[49m\u001b[43m,\u001b[49m\u001b[43m \u001b[49m\u001b[43mcol\u001b[49m\u001b[43m,\u001b[49m\u001b[43m \u001b[49m\u001b[43mdata\u001b[49m\u001b[43m)\u001b[49m\n\u001b[0;32m     41\u001b[0m \u001b[38;5;28mprint\u001b[39m(\u001b[38;5;124m\"\u001b[39m\u001b[38;5;124mProcessed Row:\u001b[39m\u001b[38;5;124m\"\u001b[39m, final_row)\n\u001b[0;32m     42\u001b[0m \u001b[38;5;28mprint\u001b[39m(\u001b[38;5;124m\"\u001b[39m\u001b[38;5;124mProcessed Col:\u001b[39m\u001b[38;5;124m\"\u001b[39m, final_col)\n",
      "    \u001b[1;31m[... skipping hidden 11 frame]\u001b[0m\n",
      "Cell \u001b[1;32mIn[261], line 20\u001b[0m, in \u001b[0;36mremove_same_pos\u001b[1;34m(row, col, data)\u001b[0m\n\u001b[0;32m     18\u001b[0m \u001b[38;5;66;03m# Identificar las posiciones de cambio en las claves (es decir, las únicas)\u001b[39;00m\n\u001b[0;32m     19\u001b[0m is_unique \u001b[38;5;241m=\u001b[39m jnp\u001b[38;5;241m.\u001b[39mconcatenate([jnp\u001b[38;5;241m.\u001b[39marray([\u001b[38;5;28;01mTrue\u001b[39;00m]), sorted_keys[\u001b[38;5;241m1\u001b[39m:] \u001b[38;5;241m!=\u001b[39m sorted_keys[:\u001b[38;5;241m-\u001b[39m\u001b[38;5;241m1\u001b[39m]])\n\u001b[1;32m---> 20\u001b[0m unique_indices \u001b[38;5;241m=\u001b[39m \u001b[43mjnp\u001b[49m\u001b[38;5;241;43m.\u001b[39;49m\u001b[43mnonzero\u001b[49m\u001b[43m(\u001b[49m\u001b[43mis_unique\u001b[49m\u001b[43m)\u001b[49m[\u001b[38;5;241m0\u001b[39m]\n\u001b[0;32m     22\u001b[0m \u001b[38;5;66;03m# Crear un índice inverso que asigna cada clave al índice único correspondiente\u001b[39;00m\n\u001b[0;32m     23\u001b[0m inverse_indices \u001b[38;5;241m=\u001b[39m jnp\u001b[38;5;241m.\u001b[39mcumsum(is_unique) \u001b[38;5;241m-\u001b[39m \u001b[38;5;241m1\u001b[39m\n",
      "File \u001b[1;32mc:\\Users\\itapi\\miniconda3\\envs\\course\\Lib\\site-packages\\jax\\_src\\numpy\\lax_numpy.py:3840\u001b[0m, in \u001b[0;36mnonzero\u001b[1;34m(***failed resolving arguments***)\u001b[0m\n\u001b[0;32m   3838\u001b[0m mask \u001b[38;5;241m=\u001b[39m arr \u001b[38;5;28;01mif\u001b[39;00m arr\u001b[38;5;241m.\u001b[39mdtype \u001b[38;5;241m==\u001b[39m \u001b[38;5;28mbool\u001b[39m \u001b[38;5;28;01melse\u001b[39;00m (arr \u001b[38;5;241m!=\u001b[39m \u001b[38;5;241m0\u001b[39m)\n\u001b[0;32m   3839\u001b[0m calculated_size_ \u001b[38;5;241m=\u001b[39m mask\u001b[38;5;241m.\u001b[39msum() \u001b[38;5;28;01mif\u001b[39;00m size \u001b[38;5;129;01mis\u001b[39;00m \u001b[38;5;28;01mNone\u001b[39;00m \u001b[38;5;28;01melse\u001b[39;00m size\n\u001b[1;32m-> 3840\u001b[0m calculated_size: \u001b[38;5;28mint\u001b[39m \u001b[38;5;241m=\u001b[39m \u001b[43mcore\u001b[49m\u001b[38;5;241;43m.\u001b[39;49m\u001b[43mconcrete_dim_or_error\u001b[49m\u001b[43m(\u001b[49m\u001b[43mcalculated_size_\u001b[49m\u001b[43m,\u001b[49m\n\u001b[0;32m   3841\u001b[0m \u001b[43m  \u001b[49m\u001b[38;5;124;43m\"\u001b[39;49m\u001b[38;5;124;43mThe size argument of jnp.nonzero must be statically specified \u001b[39;49m\u001b[38;5;124;43m\"\u001b[39;49m\n\u001b[0;32m   3842\u001b[0m \u001b[43m  \u001b[49m\u001b[38;5;124;43m\"\u001b[39;49m\u001b[38;5;124;43mto use jnp.nonzero within JAX transformations.\u001b[39;49m\u001b[38;5;124;43m\"\u001b[39;49m\u001b[43m)\u001b[49m\n\u001b[0;32m   3843\u001b[0m \u001b[38;5;28;01mif\u001b[39;00m arr\u001b[38;5;241m.\u001b[39msize \u001b[38;5;241m==\u001b[39m \u001b[38;5;241m0\u001b[39m \u001b[38;5;129;01mor\u001b[39;00m calculated_size \u001b[38;5;241m==\u001b[39m \u001b[38;5;241m0\u001b[39m:\n\u001b[0;32m   3844\u001b[0m   \u001b[38;5;28;01mreturn\u001b[39;00m \u001b[38;5;28mtuple\u001b[39m(zeros(calculated_size, \u001b[38;5;28mint\u001b[39m) \u001b[38;5;28;01mfor\u001b[39;00m dim \u001b[38;5;129;01min\u001b[39;00m arr\u001b[38;5;241m.\u001b[39mshape)\n",
      "    \u001b[1;31m[... skipping hidden 1 frame]\u001b[0m\n",
      "File \u001b[1;32mc:\\Users\\itapi\\miniconda3\\envs\\course\\Lib\\site-packages\\jax\\_src\\core.py:1571\u001b[0m, in \u001b[0;36mconcrete_or_error\u001b[1;34m(force, val, context)\u001b[0m\n\u001b[0;32m   1569\u001b[0m     \u001b[38;5;28;01mreturn\u001b[39;00m force(val\u001b[38;5;241m.\u001b[39maval\u001b[38;5;241m.\u001b[39mval)\n\u001b[0;32m   1570\u001b[0m   \u001b[38;5;28;01melse\u001b[39;00m:\n\u001b[1;32m-> 1571\u001b[0m     \u001b[38;5;28;01mraise\u001b[39;00m ConcretizationTypeError(val, context)\n\u001b[0;32m   1572\u001b[0m \u001b[38;5;28;01melse\u001b[39;00m:\n\u001b[0;32m   1573\u001b[0m   \u001b[38;5;28;01mreturn\u001b[39;00m force(val)\n",
      "\u001b[1;31mConcretizationTypeError\u001b[0m: Abstract tracer value encountered where concrete value is expected: traced array with shape int32[]\nThe size argument of jnp.nonzero must be statically specified to use jnp.nonzero within JAX transformations.\nThe error occurred while tracing the function remove_same_pos at C:\\Users\\itapi\\AppData\\Local\\Temp\\ipykernel_27880\\634259057.py:5 for jit. This concrete value was not available in Python because it depends on the values of the arguments row and col.\n\nSee https://jax.readthedocs.io/en/latest/errors.html#jax.errors.ConcretizationTypeError"
     ]
    }
   ],
   "source": [
    "import jax.numpy as jnp\n",
    "from jax.ops import segment_sum\n",
    "from jax import jit\n",
    "\n",
    "@jit\n",
    "def remove_same_pos(row, col, data):\n",
    "    # Crear una clave única para cada par de coordenadas (row, col)\n",
    "    max_col = col.max() + 1  # Evitar colisiones creando un espacio suficiente\n",
    "    keys = row * max_col + col\n",
    "\n",
    "    # Ordenar las claves para agrupar duplicados\n",
    "    sort_indices = jnp.argsort(keys)\n",
    "    sorted_keys = keys[sort_indices]\n",
    "    sorted_data = data[sort_indices]\n",
    "    sorted_row = row[sort_indices]\n",
    "    sorted_col = col[sort_indices]\n",
    "\n",
    "    # Identificar las posiciones de cambio en las claves (es decir, las únicas)\n",
    "    is_unique = jnp.concatenate([jnp.array([True]), sorted_keys[1:] != sorted_keys[:-1]])\n",
    "    unique_indices = jnp.nonzero(is_unique)[0]\n",
    "\n",
    "    # Crear un índice inverso que asigna cada clave al índice único correspondiente\n",
    "    inverse_indices = jnp.cumsum(is_unique) - 1\n",
    "\n",
    "    # Sumar los valores de `data` correspondientes a las claves únicas\n",
    "    data_summed = segment_sum(sorted_data, inverse_indices, num_segments=unique_indices.shape[0])\n",
    "\n",
    "    # Extraer las coordenadas únicas correspondientes a las claves\n",
    "    final_row = sorted_row[unique_indices]\n",
    "    final_col = sorted_col[unique_indices]\n",
    "\n",
    "    return final_row, final_col, data_summed\n",
    "\n",
    "# Prueba\n",
    "row = jnp.array([0, 1, 2, 2, 3, 3, 4])\n",
    "col = jnp.array([1, 2, 1, 1, 0, 0, 5])\n",
    "data = jnp.array([10, 20, 10, 30, 40, 50, 60], dtype=jnp.float32)\n",
    "\n",
    "final_row, final_col, data_summed = remove_same_pos(row, col, data)\n",
    "\n",
    "print(\"Processed Row:\", final_row)\n",
    "print(\"Processed Col:\", final_col)\n",
    "print(\"Processed Data:\", data_summed)\n"
   ]
  },
  {
   "cell_type": "code",
   "execution_count": 248,
   "metadata": {},
   "outputs": [
    {
     "data": {
      "text/plain": [
       "Array([0, 1, 2, 2, 3, 3, 4], dtype=int32)"
      ]
     },
     "execution_count": 248,
     "metadata": {},
     "output_type": "execute_result"
    }
   ],
   "source": [
    "import jax.numpy as jnp\n",
    "\n",
    "# Identificar posiciones únicas manualmente sin usar `jnp.where`\n",
    "# unique_mask = jnp.diff(jnp.concatenate([jnp.array([-1]), sorted_keys])) != 0\n",
    "# unique_indices = jnp.nonzero(unique_mask)[0]\n",
    "\n",
    "inverse_indices"
   ]
  },
  {
   "cell_type": "code",
   "execution_count": 232,
   "metadata": {},
   "outputs": [
    {
     "data": {
      "text/plain": [
       "Array([ True,  True,  True, False,  True, False,  True], dtype=bool)"
      ]
     },
     "execution_count": 232,
     "metadata": {},
     "output_type": "execute_result"
    }
   ],
   "source": [
    "jnp.diff(jnp.concatenate([jnp.array([-1]), sorted_keys]))!= 0"
   ]
  }
 ],
 "metadata": {
  "kernelspec": {
   "display_name": "course",
   "language": "python",
   "name": "python3"
  },
  "language_info": {
   "codemirror_mode": {
    "name": "ipython",
    "version": 3
   },
   "file_extension": ".py",
   "mimetype": "text/x-python",
   "name": "python",
   "nbconvert_exporter": "python",
   "pygments_lexer": "ipython3",
   "version": "3.12.0"
  }
 },
 "nbformat": 4,
 "nbformat_minor": 2
}
