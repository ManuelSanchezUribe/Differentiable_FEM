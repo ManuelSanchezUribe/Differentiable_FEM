{
 "cells": [
  {
   "cell_type": "markdown",
   "metadata": {},
   "source": [
    "\\begin{align*}\n",
    "\\nabla\\cdot(\\sigma\\nabla u ) &= f\\\\\n",
    "u &= 0 \\quad \\text{at }\\Gamma_D\\\\\n",
    "\\nabla u\\cdot \\mathbf{n} &= g_N \\quad \\text{at }\\Gamma_N\\\\\n",
    "\\end{align*}"
   ]
  },
  {
   "cell_type": "markdown",
   "metadata": {},
   "source": [
    "## Ejemplos en 1D\n",
    "\n",
    "### Benchmark 1\n",
    "\n",
    "\\begin{align*}\n",
    "u &= x^{0.7}\\\\\n",
    "f &= 0.21x^{-1.3}\\\\\n",
    "u(0) &= 0\\\\\n",
    "u'(1) &= 0.7\\\\\n",
    "\\sigma &= 1\n",
    "\\end{align*}\n",
    "\n",
    "<p align=\"center\">\n",
    "    <img src=\"codes/Figures/x07_grid_comparison16_iter10000.png\" alt=\"Optimización de la grilla para $f(x) = x^{0.7}$\" width=\"45%\" style=\"display: inline-block;\">\n",
    "    <img src=\"codes/Figures/x07_r_adaptivity_sparse_nodes16_iter10000.png\" alt=\"Resultado para $f(x) = x^{0.7}$\" width=\"45%\" style=\"display: inline-block;\">\n",
    "</p>\n",
    "<p align=\"center\">\n",
    "    <img src=\"codes/Figures/x07_Loss_history16_iter10000.png\" alt=\"Historial de pérdida para $f(x) = x^{0.7}\" width=\"45%\" style=\"display: inline-block;\">\n",
    "\n",
    "\n",
    "\n"
   ]
  },
  {
   "cell_type": "markdown",
   "metadata": {},
   "source": [
    "### Benchmark 2\n",
    "\n",
    "\\begin{align*}\n",
    "f &= 4\\pi^2\\sin(2\\pi x)\\\\\n",
    "u(0) &= 0\\\\\n",
    "u(1) &= 0\\\\\n",
    "\\sigma &= \\begin{cases}1 & x\\leq \\frac{1}{2}\\\\ 10 & x\\geq \\frac{1}{2}\n",
    "\\end{cases}\n",
    "\\end{align*}\n",
    "\n",
    "\n",
    "<p align=\"center\">\n",
    "    <img src=\"codes/Figures/s_dis_grid_comparison17_iter10000.png\" alt=\"Optimización de la grilla para sigma discontinuo\" width=\"45%\" style=\"display: inline-block;\">\n",
    "    <img src=\"codes/Figures/s_dis_r_adaptivity_sparse_nodes17_iter10000.png\" alt=\"Resultado para sigma discontinuo\" width=\"45%\" style=\"display: inline-block;\">\n",
    "</p>\n",
    "<p align=\"center\">\n",
    "    <img src=\"codes/Figures/s_dis_Loss_history17_iter10000.png\" alt=\"Historial de pérdida para sigma discontinuo\" width=\"45%\" style=\"display: inline-block;\">"
   ]
  },
  {
   "cell_type": "markdown",
   "metadata": {},
   "source": [
    "## Ejemplos en 2D\n",
    "\n",
    "### Benchmark 1\n",
    "\n",
    "\\begin{align*}\n",
    "f &= -200(\\arctan(10y - 1/2) - \\arctan(1/2))\\frac{(1/2-10x)}{(1+(10x-1/2)^2)^2} - 200(\\arctan(10x - 1/2) - \\arctan(1/2))\\frac{(1/2-10y)}{(1+(10y-1/2)^2)^2}\\\\\n",
    "g_N &= \\begin{cases}(\\arctan(10x - 1/2) + \\arctan(1/2))\\frac{10}{1+(10 - 1/2)^2}& \\text{at }y = 1,\\\\\n",
    "(\\arctan(10y - 1/2) + \\arctan(1/2))\\frac{10}{1+(10 - 1/2)^2}& \\text{at }x = 1.\\\\\\end{cases}\\\\\n",
    "\\end{align*}\n",
    "\n",
    "\n",
    "<p align=\"center\">\n",
    "    <img src=\"codes/Figures/Restult_2Dtest2.png\" alt=\"Optimización de la grilla para $f(x) = x^{0.7}$\" width=\"45%\" style=\"display: inline-block;\">\n",
    "    <img src=\"codes/Figures/LossHistory_2DTest2.png\" alt=\"Resultado para $f(x) = x^{0.7}$\" width=\"45%\" style=\"display: inline-block;\">\n",
    "</p>\n",
    "\n"
   ]
  },
  {
   "cell_type": "markdown",
   "metadata": {},
   "source": [
    "### Benchmark 2\n",
    "\n",
    "\\begin{align*}\n",
    "f &= -200(\\arctan(10y - 2) - \\arctan(2))\\frac{(5-10x)}{(1+(10x-5)^2)^2} - 200(\\arctan(10x - 5) - \\arctan(5))\\frac{(2-10y)}{(1+(10y-2)^2)^2}\\\\\n",
    "g_N &= \\begin{cases}(\\arctan(10x - 5) + \\arctan(5))\\frac{10}{1+(8)^2}& \\text{at }y = 1,\\\\\n",
    "(\\arctan(10y - 2) + \\arctan(2))\\frac{10}{1+(5)^2}& \\text{at }x = 1.\\\\\\end{cases}\\\\\n",
    "\\end{align*}\n",
    "\n",
    "<p align=\"center\">\n",
    "    <img src=\"codes/Figures/Results_2DTest2_disp.png\" alt=\"Optimización de la grilla para $f(x) = x^{0.7}$\" width=\"45%\" style=\"display: inline-block;\">\n",
    "    <img src=\"codes/Figures/LossHistory_2Dtest2_disp.png\" alt=\"Resultado para $f(x) = x^{0.7}$\" width=\"45%\" style=\"display: inline-block;\">\n",
    "</p>"
   ]
  },
  {
   "cell_type": "markdown",
   "metadata": {},
   "source": []
  },
  {
   "cell_type": "markdown",
   "metadata": {},
   "source": [
    "## Convergencia FEM malla uniforme v/s FEM malla NN\n",
    "\n",
    "$$ x^\\alpha = 0 $$\n",
    "\n",
    "#### $\\alpha = 0.7$\n",
    "\n",
    "![title](codes/Figures/NNlogN0.7_adaptive.png)\n",
    "\n",
    "+ FEM malla uniforme: ~0.2\n",
    "+ FEM malla NN: ~1.0\n",
    "\n",
    "\n",
    "#### $\\alpha = 0.7$\n",
    "\n",
    "![title](codes/Figures/NNlogN0.7_adaptive.png)\n",
    "\n",
    "+ FEM malla uniforme: ~0.2\n",
    "+ FEM malla NN: ~1.0\n",
    "\n",
    "#### $\\alpha = 0.75$\n",
    "\n",
    "![title](codes/Figures/NNlogN0.75_adaptive.png)\n",
    "\n",
    "+ FEM malla uniforme: ~0.25\n",
    "+ FEM malla teorico: 0.25\n",
    "+ FEM malla NN: ~1.0\n",
    "+ FEM malla optima: 1.0\n",
    "\n",
    "#### $\\alpha = 0.65$\n",
    "\n",
    "![title](codes/Figures/NNlogN0.65_adaptive.png)\n",
    "\n",
    "+ FEM malla uniforme: ~0.15\n",
    "+ FEM malla teorico: 0.15\n",
    "+ FEM malla NN: ~1.0\n",
    "+ FEM malla optima: 1.0\n",
    "\n",
    "\n",
    "\n",
    "\n"
   ]
  },
  {
   "cell_type": "markdown",
   "metadata": {},
   "source": []
  }
 ],
 "metadata": {
  "language_info": {
   "name": "python"
  }
 },
 "nbformat": 4,
 "nbformat_minor": 2
}
